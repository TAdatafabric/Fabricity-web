{
 "cells": [
  {
   "attachments": {},
   "cell_type": "markdown",
   "metadata": {},
   "source": [
    "1.) Set Up Environment"
   ]
  },
  {
   "cell_type": "code",
   "execution_count": 1,
   "metadata": {},
   "outputs": [],
   "source": [
    "import pandas as pd #dataframe library\n",
    "import numpy as np #numeric library\n",
    "import datetime as dt\n",
    "\n",
    "#plot library\n",
    "import matplotlib.pyplot as plt \n",
    "import seaborn as sns \n",
    "\n",
    "#evaluation library\n",
    "from sklearn.metrics import confusion_matrix, accuracy_score, classification_report,recall_score,precision_score\n",
    "\n",
    "#label encoder library\n",
    "from sklearn.preprocessing import LabelEncoder\n",
    "\n",
    "# for min_max scaling (Kaggle)\n",
    "from mlxtend.preprocessing import minmax_scaling\n",
    "\n",
    "from sklearn.preprocessing import MinMaxScaler, StandardScaler\n",
    "\n",
    "# ganti datatime\n",
    "from sklearn.preprocessing import StandardScaler\n",
    "\n",
    "# for Box-Cox Transformation\n",
    "from scipy import stats\n",
    "\n",
    "# set seed for reproducibility\n",
    "np.random.seed(0)"
   ]
  },
  {
   "attachments": {},
   "cell_type": "markdown",
   "metadata": {},
   "source": [
    "2.) Dataset Preparation"
   ]
  },
  {
   "cell_type": "code",
   "execution_count": 2,
   "metadata": {},
   "outputs": [],
   "source": [
    "# for SMP Team\n",
    "smp_url = 'https://docs.google.com/spreadsheets/d/1fQjK_yvaj5yh006nRTcMXaoU0RAx8OUy2IhpZG4tNMw/edit#gid=0'\n",
    "smp_data = smp_url.replace('/edit#gid=', '/export?format=csv&gid=')\n",
    "smp = pd.read_csv(smp_data)\n",
    "\n",
    "# for NS Team\n",
    "ns_url = 'https://docs.google.com/spreadsheets/d/16Vrap9JRBTrq9vA-Xz-1ZkLv0GiaWZ6oETrhL4ry-Ok/edit#gid=0'\n",
    "ns_data = ns_url.replace('/edit#gid=', '/export?format=csv&gid=')\n",
    "ns = pd.read_csv(ns_data)\n",
    "\n",
    "# for ITInfra Team\n",
    "infra_url = 'https://docs.google.com/spreadsheets/d/1RxhtYZPFhB5F2a3434SAC6K11j_sRMhRDu5avKHMAQg/edit#gid=0'\n",
    "infra_data = infra_url.replace('/edit#gid=', '/export?format=csv&gid=')\n",
    "infra = pd.read_csv(infra_data)\n",
    "\n",
    "# for Finance Team\n",
    "fin_url = 'https://docs.google.com/spreadsheets/d/1F0KiwUmqIiknViTQ4Os_SdHdBVA2ErOOrSgH2Hqeumc/edit#gid=0'\n",
    "fin_data = fin_url.replace('/edit#gid=', '/export?format=csv&gid=')\n",
    "fin = pd.read_csv(fin_data)"
   ]
  },
  {
   "attachments": {},
   "cell_type": "markdown",
   "metadata": {},
   "source": [
    "3.) Merge Columns"
   ]
  },
  {
   "cell_type": "code",
   "execution_count": 3,
   "metadata": {},
   "outputs": [
    {
     "name": "stdout",
     "output_type": "stream",
     "text": [
      "43947\n"
     ]
    }
   ],
   "source": [
    "# buat kolom baru di table infra\n",
    "infra['payment_cat'] = ''\n",
    "\n",
    "# looping untuk kondisi\n",
    "for index, row in infra.iterrows():\n",
    "    subsno_infra = row['subs_no']\n",
    "    \n",
    "    # cari kecocokan\n",
    "    match = fin[\n",
    "        (fin['subs_no'] == subsno_infra) \n",
    "    ]\n",
    "    \n",
    "    # copy data yang sesuai\n",
    "    if not match.empty:\n",
    "        infra.at[index, 'payment_cat'] = match.iloc[0]['payment_cat']\n",
    "\n",
    "total_infra= len(infra)\n",
    "print(total_infra)"
   ]
  },
  {
   "cell_type": "code",
   "execution_count": 4,
   "metadata": {},
   "outputs": [
    {
     "name": "stdout",
     "output_type": "stream",
     "text": [
      "43947\n"
     ]
    }
   ],
   "source": [
    "# buat kolom baru di table infra\n",
    "infra['subs_key'] = ''\n",
    "infra['rem_bal'] = ''\n",
    "infra['rtd_amt'] = ''\n",
    "infra['free_unit'] = ''\n",
    "infra['usg_unit'] = ''\n",
    "infra['sid'] = ''\n",
    "\n",
    "# looping untuk kondisi\n",
    "for index, row in infra.iterrows():\n",
    "    servicefilter_infra = row['service_filter']\n",
    "    subsno_infra = row['subs_no']\n",
    "    timeno_infra = row['time_no']\n",
    "    \n",
    "    # cari kecocokan\n",
    "    match = ns[\n",
    "        (ns['service_filter'] == servicefilter_infra) &\n",
    "        (ns['subs_no'] == subsno_infra) &\n",
    "        (ns['time_no'] == timeno_infra)\n",
    "    ]\n",
    "    \n",
    "    # copy data yang sesuai\n",
    "    if not match.empty:\n",
    "        infra.at[index, 'subs_key'] = match.iloc[0]['subs_key']\n",
    "        infra.at[index, 'rem_bal'] = match.iloc[0]['rem_bal']\n",
    "        infra.at[index, 'rtd_amt'] = match.iloc[0]['rtd_amt']\n",
    "        infra.at[index, 'free_unit'] = match.iloc[0]['free_unit']\n",
    "        infra.at[index, 'usg_unit'] = match.iloc[0]['usg_unit']\n",
    "        infra.at[index, 'sid'] = match.iloc[0]['sid']\n",
    "\n",
    "total_infra= len(infra)\n",
    "print(total_infra)"
   ]
  },
  {
   "attachments": {},
   "cell_type": "markdown",
   "metadata": {},
   "source": [
    "4.) Make a Copy "
   ]
  },
  {
   "cell_type": "code",
   "execution_count": 5,
   "metadata": {},
   "outputs": [],
   "source": [
    "data = infra.copy()"
   ]
  },
  {
   "attachments": {},
   "cell_type": "markdown",
   "metadata": {},
   "source": [
    "5.) Change Name and Order of Columns)"
   ]
  },
  {
   "cell_type": "code",
   "execution_count": 6,
   "metadata": {},
   "outputs": [
    {
     "name": "stdout",
     "output_type": "stream",
     "text": [
      "Index(['day_no', 'time_no', 'service_filter', 'subs_no', 'b_no',\n",
      "       'event_action_code', 'prefix_dom_sk_id', 'originating_cell_id',\n",
      "       'home_poc', 'city_name', 'physical_poc', 'roam_zone', 'destination_poc',\n",
      "       'payment_cat', 'subs_key', 'rem_bal', 'rtd_amt', 'free_unit',\n",
      "       'usg_unit', 'sid'],\n",
      "      dtype='object')\n"
     ]
    }
   ],
   "source": [
    "print(data.columns)"
   ]
  },
  {
   "cell_type": "code",
   "execution_count": 7,
   "metadata": {},
   "outputs": [
    {
     "name": "stdout",
     "output_type": "stream",
     "text": [
      "Index(['date', 'date_time', 'service_type', 'subs_no', 'destination_no',\n",
      "       'event_action_code', 'prefix_domain', 'cell_id', 'home_poc',\n",
      "       'city_name', 'physical_poc', 'roam_zone', 'destination_poc',\n",
      "       'payment_type', 'subs_id', 'remaining_balance', 'amount_of_trx',\n",
      "       'free_unit', 'usage_unit', 'sid'],\n",
      "      dtype='object')\n"
     ]
    }
   ],
   "source": [
    "col_name = [\n",
    "    'date', #date\n",
    "    'date_time' , #date and time\n",
    "    'service_type', #service_type\n",
    "    'subs_no', #subs_no\n",
    "    'destination_no', #b_no\n",
    "    'event_action_code', #event_action_code\n",
    "    'prefix_domain', #prefix_dom_sk_id\n",
    "    'cell_id', #originating_cell_id\n",
    "    'home_poc', #home_poc\n",
    "    'city_name', #city_name\n",
    "    'physical_poc', #physical_poc\n",
    "    'roam_zone', #roam_zone\n",
    "    'destination_poc', #destination_poc\n",
    "    'payment_type', #payment_cat\n",
    "    'subs_id', #subs_key\n",
    "    'remaining_balance', #rem_bal\n",
    "    'amount_of_trx', #rtd_amt\n",
    "    'free_unit', #free_unit\n",
    "    'usage_unit', #usg_unit\n",
    "    'sid' #sid\n",
    "]\n",
    "\n",
    "data.columns = col_name\n",
    "print(data.columns)"
   ]
  },
  {
   "cell_type": "code",
   "execution_count": 8,
   "metadata": {},
   "outputs": [],
   "source": [
    "order = [\n",
    "    'date', #date\n",
    "    'date_time' , #date and time\n",
    "    'subs_no', #subs_no\n",
    "    'subs_id', #subs_key\n",
    "    'payment_type', #payment_cat\n",
    "    'service_type', #service_type\n",
    "    'destination_no', #b_no\n",
    "    'event_action_code', #event_action_code\n",
    "    'prefix_domain', #prefix_dom_sk_id\n",
    "    'cell_id', #originating_cell_id\n",
    "    'home_poc', #home_poc\n",
    "    'city_name', #city_name\n",
    "    'physical_poc', #physical_poc\n",
    "    'roam_zone', #roam_zone\n",
    "    'destination_poc', #destination_poc\n",
    "    'remaining_balance', #rem_bal\n",
    "    'amount_of_trx', #rtd_amt\n",
    "    'free_unit', #free_unit\n",
    "    'usage_unit', #usg_unit\n",
    "    'sid' #sid\n",
    "]\n",
    "\n",
    "data = data[order]\n"
   ]
  },
  {
   "attachments": {},
   "cell_type": "markdown",
   "metadata": {},
   "source": [
    "6.) Dropping Un-Needed Columns"
   ]
  },
  {
   "cell_type": "code",
   "execution_count": 9,
   "metadata": {},
   "outputs": [],
   "source": [
    "data = data.drop(['subs_id','destination_no','cell_id','prefix_domain','event_action_code', 'roam_zone', 'sid'], axis = 1)"
   ]
  },
  {
   "cell_type": "code",
   "execution_count": 10,
   "metadata": {},
   "outputs": [
    {
     "data": {
      "text/html": [
       "<div>\n",
       "<style scoped>\n",
       "    .dataframe tbody tr th:only-of-type {\n",
       "        vertical-align: middle;\n",
       "    }\n",
       "\n",
       "    .dataframe tbody tr th {\n",
       "        vertical-align: top;\n",
       "    }\n",
       "\n",
       "    .dataframe thead th {\n",
       "        text-align: right;\n",
       "    }\n",
       "</style>\n",
       "<table border=\"1\" class=\"dataframe\">\n",
       "  <thead>\n",
       "    <tr style=\"text-align: right;\">\n",
       "      <th></th>\n",
       "      <th>date</th>\n",
       "      <th>date_time</th>\n",
       "      <th>subs_no</th>\n",
       "      <th>payment_type</th>\n",
       "      <th>service_type</th>\n",
       "      <th>home_poc</th>\n",
       "      <th>city_name</th>\n",
       "      <th>physical_poc</th>\n",
       "      <th>destination_poc</th>\n",
       "      <th>remaining_balance</th>\n",
       "      <th>amount_of_trx</th>\n",
       "      <th>free_unit</th>\n",
       "      <th>usage_unit</th>\n",
       "    </tr>\n",
       "  </thead>\n",
       "  <tbody>\n",
       "    <tr>\n",
       "      <th>0</th>\n",
       "      <td>9/1/2021</td>\n",
       "      <td>9/1/2021 21:24:31</td>\n",
       "      <td>2106705274</td>\n",
       "      <td>PRE</td>\n",
       "      <td>SMSBAS</td>\n",
       "      <td>JK0</td>\n",
       "      <td>JAKARTA</td>\n",
       "      <td>KA0</td>\n",
       "      <td>JKT</td>\n",
       "      <td>673</td>\n",
       "      <td>50</td>\n",
       "      <td>0.0</td>\n",
       "      <td>1</td>\n",
       "    </tr>\n",
       "    <tr>\n",
       "      <th>1</th>\n",
       "      <td>9/1/2021</td>\n",
       "      <td>9/1/2021 21:29:28</td>\n",
       "      <td>2106705274</td>\n",
       "      <td>PRE</td>\n",
       "      <td>SMSBAS</td>\n",
       "      <td>JK0</td>\n",
       "      <td>JAKARTA</td>\n",
       "      <td>KA0</td>\n",
       "      <td>JKT</td>\n",
       "      <td>623</td>\n",
       "      <td>50</td>\n",
       "      <td>0.0</td>\n",
       "      <td>1</td>\n",
       "    </tr>\n",
       "    <tr>\n",
       "      <th>2</th>\n",
       "      <td>9/1/2021</td>\n",
       "      <td>9/1/2021 21:36:35</td>\n",
       "      <td>2106705274</td>\n",
       "      <td>PRE</td>\n",
       "      <td>SMSBAS</td>\n",
       "      <td>JK0</td>\n",
       "      <td>JAKARTA</td>\n",
       "      <td>KA0</td>\n",
       "      <td>JKT</td>\n",
       "      <td>573</td>\n",
       "      <td>50</td>\n",
       "      <td>0.0</td>\n",
       "      <td>1</td>\n",
       "    </tr>\n",
       "    <tr>\n",
       "      <th>3</th>\n",
       "      <td>9/1/2021</td>\n",
       "      <td>9/1/2021 7:43:24</td>\n",
       "      <td>1075588229</td>\n",
       "      <td>PRE</td>\n",
       "      <td>VASOCC</td>\n",
       "      <td>NOPOC</td>\n",
       "      <td>JAKARTA</td>\n",
       "      <td>B</td>\n",
       "      <td>0</td>\n",
       "      <td>7220</td>\n",
       "      <td>5500</td>\n",
       "      <td>0.0</td>\n",
       "      <td>1</td>\n",
       "    </tr>\n",
       "    <tr>\n",
       "      <th>4</th>\n",
       "      <td>9/1/2021</td>\n",
       "      <td>9/1/2021 4:24:54</td>\n",
       "      <td>1075588229</td>\n",
       "      <td>PRE</td>\n",
       "      <td>CONTEN</td>\n",
       "      <td>JK0</td>\n",
       "      <td>JAKARTA</td>\n",
       "      <td>JK0</td>\n",
       "      <td>0</td>\n",
       "      <td>101720</td>\n",
       "      <td>55</td>\n",
       "      <td>NaN</td>\n",
       "      <td>1048576</td>\n",
       "    </tr>\n",
       "  </tbody>\n",
       "</table>\n",
       "</div>"
      ],
      "text/plain": [
       "       date          date_time     subs_no payment_type service_type home_poc   \n",
       "0  9/1/2021  9/1/2021 21:24:31  2106705274          PRE       SMSBAS      JK0  \\\n",
       "1  9/1/2021  9/1/2021 21:29:28  2106705274          PRE       SMSBAS      JK0   \n",
       "2  9/1/2021  9/1/2021 21:36:35  2106705274          PRE       SMSBAS      JK0   \n",
       "3  9/1/2021   9/1/2021 7:43:24  1075588229          PRE       VASOCC    NOPOC   \n",
       "4  9/1/2021   9/1/2021 4:24:54  1075588229          PRE       CONTEN      JK0   \n",
       "\n",
       "  city_name physical_poc destination_poc remaining_balance amount_of_trx   \n",
       "0   JAKARTA          KA0             JKT               673            50  \\\n",
       "1   JAKARTA          KA0             JKT               623            50   \n",
       "2   JAKARTA          KA0             JKT               573            50   \n",
       "3   JAKARTA            B               0              7220          5500   \n",
       "4   JAKARTA          JK0               0            101720            55   \n",
       "\n",
       "  free_unit usage_unit  \n",
       "0       0.0          1  \n",
       "1       0.0          1  \n",
       "2       0.0          1  \n",
       "3       0.0          1  \n",
       "4       NaN    1048576  "
      ]
     },
     "execution_count": 10,
     "metadata": {},
     "output_type": "execute_result"
    }
   ],
   "source": [
    "data.head()"
   ]
  },
  {
   "attachments": {},
   "cell_type": "markdown",
   "metadata": {},
   "source": [
    "7.) Missing Values"
   ]
  },
  {
   "cell_type": "code",
   "execution_count": 11,
   "metadata": {},
   "outputs": [
    {
     "data": {
      "text/plain": [
       "date                     0\n",
       "date_time                0\n",
       "subs_no                  0\n",
       "payment_type             0\n",
       "service_type             0\n",
       "home_poc                 0\n",
       "city_name                0\n",
       "physical_poc             0\n",
       "destination_poc      20229\n",
       "remaining_balance        0\n",
       "amount_of_trx            0\n",
       "free_unit            14646\n",
       "usage_unit               0\n",
       "dtype: int64"
      ]
     },
     "execution_count": 11,
     "metadata": {},
     "output_type": "execute_result"
    }
   ],
   "source": [
    "missing_values_count = data.isnull().sum() + data.isin(['', ' ','00000000', None, np.nan]).sum()\n",
    "missing_values_count"
   ]
  },
  {
   "cell_type": "code",
   "execution_count": 12,
   "metadata": {},
   "outputs": [],
   "source": [
    "#for free_unit\n",
    "#jika free_unit memiliki nilai NULL, maka service_filter pada baris dengan nilai free_unit == NULL tersebut tidak memiliki fitur free_unit, sehingga nilai NULL harus diganti dengan nilai 0."
   ]
  },
  {
   "cell_type": "code",
   "execution_count": 13,
   "metadata": {},
   "outputs": [],
   "source": [
    "data['free_unit'] = data['free_unit'].fillna(0)\n",
    "data['free_unit'] = data['free_unit'].replace(['', ' ', None], 0)"
   ]
  },
  {
   "cell_type": "code",
   "execution_count": 14,
   "metadata": {},
   "outputs": [],
   "source": [
    "# for destination_poc\n",
    "#00000000 --> service filter: CONTEN/VASOCC\n",
    "#0 --> service filter:CONTEN/VASOCC\n",
    "#(Blank) --> service filter: INTNAL/NATNAL\n",
    "# so, we will fill the missing values of destination_poc with NOPOC"
   ]
  },
  {
   "cell_type": "code",
   "execution_count": 15,
   "metadata": {},
   "outputs": [],
   "source": [
    "data['destination_poc'] = data['destination_poc'].fillna('NOPOC')\n",
    "data['destination_poc'] = data['destination_poc'].replace(['', ' ','0', None, '00000000'], 'NOPOC')"
   ]
  },
  {
   "cell_type": "code",
   "execution_count": 16,
   "metadata": {},
   "outputs": [
    {
     "data": {
      "text/plain": [
       "date                 0\n",
       "date_time            0\n",
       "subs_no              0\n",
       "payment_type         0\n",
       "service_type         0\n",
       "home_poc             0\n",
       "city_name            0\n",
       "physical_poc         0\n",
       "destination_poc      0\n",
       "remaining_balance    0\n",
       "amount_of_trx        0\n",
       "free_unit            0\n",
       "usage_unit           0\n",
       "dtype: int64"
      ]
     },
     "execution_count": 16,
     "metadata": {},
     "output_type": "execute_result"
    }
   ],
   "source": [
    "missing_values_count = data.isnull().sum() + data.isin(['', ' ','00000000', None, np.nan]).sum()\n",
    "missing_values_count"
   ]
  },
  {
   "attachments": {},
   "cell_type": "markdown",
   "metadata": {},
   "source": [
    "8.) Data Type Check for Numerical Data "
   ]
  },
  {
   "cell_type": "code",
   "execution_count": 17,
   "metadata": {},
   "outputs": [
    {
     "data": {
      "text/plain": [
       "remaining_balance     object\n",
       "amount_of_trx         object\n",
       "free_unit            float64\n",
       "usage_unit            object\n",
       "dtype: object"
      ]
     },
     "execution_count": 17,
     "metadata": {},
     "output_type": "execute_result"
    }
   ],
   "source": [
    "data[['remaining_balance', 'amount_of_trx', 'free_unit', 'usage_unit']].dtypes"
   ]
  },
  {
   "cell_type": "code",
   "execution_count": 18,
   "metadata": {},
   "outputs": [],
   "source": [
    "def non_numeric(x):\n",
    "    non_numeric_data = pd.DataFrame(data[data[x].astype(str).str.contains('[^0-9.-]')])\n",
    "    return non_numeric_data"
   ]
  },
  {
   "cell_type": "code",
   "execution_count": 19,
   "metadata": {},
   "outputs": [
    {
     "data": {
      "text/html": [
       "<div>\n",
       "<style scoped>\n",
       "    .dataframe tbody tr th:only-of-type {\n",
       "        vertical-align: middle;\n",
       "    }\n",
       "\n",
       "    .dataframe tbody tr th {\n",
       "        vertical-align: top;\n",
       "    }\n",
       "\n",
       "    .dataframe thead th {\n",
       "        text-align: right;\n",
       "    }\n",
       "</style>\n",
       "<table border=\"1\" class=\"dataframe\">\n",
       "  <thead>\n",
       "    <tr style=\"text-align: right;\">\n",
       "      <th></th>\n",
       "      <th>date</th>\n",
       "      <th>date_time</th>\n",
       "      <th>subs_no</th>\n",
       "      <th>payment_type</th>\n",
       "      <th>service_type</th>\n",
       "      <th>home_poc</th>\n",
       "      <th>city_name</th>\n",
       "      <th>physical_poc</th>\n",
       "      <th>destination_poc</th>\n",
       "      <th>remaining_balance</th>\n",
       "      <th>amount_of_trx</th>\n",
       "      <th>free_unit</th>\n",
       "      <th>usage_unit</th>\n",
       "    </tr>\n",
       "  </thead>\n",
       "  <tbody>\n",
       "    <tr>\n",
       "      <th>1108</th>\n",
       "      <td>9/8/2021</td>\n",
       "      <td>9/8/2021 14:36:18</td>\n",
       "      <td>545592898</td>\n",
       "      <td>PRE</td>\n",
       "      <td>CONTEN</td>\n",
       "      <td>BD0</td>\n",
       "      <td>BANDUNG</td>\n",
       "      <td>MD0</td>\n",
       "      <td>NOPOC</td>\n",
       "      <td>2425:06:00</td>\n",
       "      <td>35</td>\n",
       "      <td>0.0</td>\n",
       "      <td>3993600</td>\n",
       "    </tr>\n",
       "    <tr>\n",
       "      <th>1109</th>\n",
       "      <td>9/8/2021</td>\n",
       "      <td>9/8/2021 14:36:08</td>\n",
       "      <td>545592898</td>\n",
       "      <td>PRE</td>\n",
       "      <td>CONTEN</td>\n",
       "      <td>BD0</td>\n",
       "      <td>BANDUNG</td>\n",
       "      <td>MD0</td>\n",
       "      <td>NOPOC</td>\n",
       "      <td>2423:06:00</td>\n",
       "      <td>2</td>\n",
       "      <td>0.0</td>\n",
       "      <td>102400</td>\n",
       "    </tr>\n",
       "    <tr>\n",
       "      <th>1110</th>\n",
       "      <td>9/8/2021</td>\n",
       "      <td>9/8/2021 14:36:12</td>\n",
       "      <td>545592898</td>\n",
       "      <td>PRE</td>\n",
       "      <td>CONTEN</td>\n",
       "      <td>BD0</td>\n",
       "      <td>BANDUNG</td>\n",
       "      <td>MD0</td>\n",
       "      <td>NOPOC</td>\n",
       "      <td>2421:06:00</td>\n",
       "      <td>2</td>\n",
       "      <td>0.0</td>\n",
       "      <td>102400</td>\n",
       "    </tr>\n",
       "    <tr>\n",
       "      <th>1111</th>\n",
       "      <td>9/8/2021</td>\n",
       "      <td>9/8/2021 14:36:15</td>\n",
       "      <td>545592898</td>\n",
       "      <td>PRE</td>\n",
       "      <td>CONTEN</td>\n",
       "      <td>BD0</td>\n",
       "      <td>BANDUNG</td>\n",
       "      <td>MD0</td>\n",
       "      <td>NOPOC</td>\n",
       "      <td>2419:06:00</td>\n",
       "      <td>2</td>\n",
       "      <td>0.0</td>\n",
       "      <td>102400</td>\n",
       "    </tr>\n",
       "    <tr>\n",
       "      <th>1112</th>\n",
       "      <td>9/8/2021</td>\n",
       "      <td>9/8/2021 14:36:15</td>\n",
       "      <td>545592898</td>\n",
       "      <td>PRE</td>\n",
       "      <td>CONTEN</td>\n",
       "      <td>BD0</td>\n",
       "      <td>BANDUNG</td>\n",
       "      <td>MD0</td>\n",
       "      <td>NOPOC</td>\n",
       "      <td>2419:06:00</td>\n",
       "      <td>2</td>\n",
       "      <td>0.0</td>\n",
       "      <td>102400</td>\n",
       "    </tr>\n",
       "    <tr>\n",
       "      <th>1113</th>\n",
       "      <td>9/8/2021</td>\n",
       "      <td>9/8/2021 14:36:15</td>\n",
       "      <td>545592898</td>\n",
       "      <td>PRE</td>\n",
       "      <td>CONTEN</td>\n",
       "      <td>BD0</td>\n",
       "      <td>BANDUNG</td>\n",
       "      <td>MD0</td>\n",
       "      <td>NOPOC</td>\n",
       "      <td>2419:06:00</td>\n",
       "      <td>2</td>\n",
       "      <td>0.0</td>\n",
       "      <td>102400</td>\n",
       "    </tr>\n",
       "    <tr>\n",
       "      <th>1114</th>\n",
       "      <td>9/8/2021</td>\n",
       "      <td>9/8/2021 14:36:15</td>\n",
       "      <td>545592898</td>\n",
       "      <td>PRE</td>\n",
       "      <td>CONTEN</td>\n",
       "      <td>BD0</td>\n",
       "      <td>BANDUNG</td>\n",
       "      <td>MD0</td>\n",
       "      <td>NOPOC</td>\n",
       "      <td>2419:06:00</td>\n",
       "      <td>2</td>\n",
       "      <td>0.0</td>\n",
       "      <td>102400</td>\n",
       "    </tr>\n",
       "  </tbody>\n",
       "</table>\n",
       "</div>"
      ],
      "text/plain": [
       "          date          date_time    subs_no payment_type service_type   \n",
       "1108  9/8/2021  9/8/2021 14:36:18  545592898          PRE       CONTEN  \\\n",
       "1109  9/8/2021  9/8/2021 14:36:08  545592898          PRE       CONTEN   \n",
       "1110  9/8/2021  9/8/2021 14:36:12  545592898          PRE       CONTEN   \n",
       "1111  9/8/2021  9/8/2021 14:36:15  545592898          PRE       CONTEN   \n",
       "1112  9/8/2021  9/8/2021 14:36:15  545592898          PRE       CONTEN   \n",
       "1113  9/8/2021  9/8/2021 14:36:15  545592898          PRE       CONTEN   \n",
       "1114  9/8/2021  9/8/2021 14:36:15  545592898          PRE       CONTEN   \n",
       "\n",
       "     home_poc city_name physical_poc destination_poc remaining_balance   \n",
       "1108      BD0   BANDUNG          MD0           NOPOC        2425:06:00  \\\n",
       "1109      BD0   BANDUNG          MD0           NOPOC        2423:06:00   \n",
       "1110      BD0   BANDUNG          MD0           NOPOC        2421:06:00   \n",
       "1111      BD0   BANDUNG          MD0           NOPOC        2419:06:00   \n",
       "1112      BD0   BANDUNG          MD0           NOPOC        2419:06:00   \n",
       "1113      BD0   BANDUNG          MD0           NOPOC        2419:06:00   \n",
       "1114      BD0   BANDUNG          MD0           NOPOC        2419:06:00   \n",
       "\n",
       "     amount_of_trx  free_unit usage_unit  \n",
       "1108            35        0.0    3993600  \n",
       "1109             2        0.0     102400  \n",
       "1110             2        0.0     102400  \n",
       "1111             2        0.0     102400  \n",
       "1112             2        0.0     102400  \n",
       "1113             2        0.0     102400  \n",
       "1114             2        0.0     102400  "
      ]
     },
     "execution_count": 19,
     "metadata": {},
     "output_type": "execute_result"
    }
   ],
   "source": [
    "non_numeric('remaining_balance')"
   ]
  },
  {
   "cell_type": "code",
   "execution_count": 20,
   "metadata": {},
   "outputs": [
    {
     "data": {
      "text/html": [
       "<div>\n",
       "<style scoped>\n",
       "    .dataframe tbody tr th:only-of-type {\n",
       "        vertical-align: middle;\n",
       "    }\n",
       "\n",
       "    .dataframe tbody tr th {\n",
       "        vertical-align: top;\n",
       "    }\n",
       "\n",
       "    .dataframe thead th {\n",
       "        text-align: right;\n",
       "    }\n",
       "</style>\n",
       "<table border=\"1\" class=\"dataframe\">\n",
       "  <thead>\n",
       "    <tr style=\"text-align: right;\">\n",
       "      <th></th>\n",
       "      <th>date</th>\n",
       "      <th>date_time</th>\n",
       "      <th>subs_no</th>\n",
       "      <th>payment_type</th>\n",
       "      <th>service_type</th>\n",
       "      <th>home_poc</th>\n",
       "      <th>city_name</th>\n",
       "      <th>physical_poc</th>\n",
       "      <th>destination_poc</th>\n",
       "      <th>remaining_balance</th>\n",
       "      <th>amount_of_trx</th>\n",
       "      <th>free_unit</th>\n",
       "      <th>usage_unit</th>\n",
       "    </tr>\n",
       "  </thead>\n",
       "  <tbody>\n",
       "    <tr>\n",
       "      <th>0</th>\n",
       "      <td>9/1/2021</td>\n",
       "      <td>9/1/2021 21:24:31</td>\n",
       "      <td>2106705274</td>\n",
       "      <td>PRE</td>\n",
       "      <td>SMSBAS</td>\n",
       "      <td>JK0</td>\n",
       "      <td>JAKARTA</td>\n",
       "      <td>KA0</td>\n",
       "      <td>JKT</td>\n",
       "      <td>673</td>\n",
       "      <td>50</td>\n",
       "      <td>0.0</td>\n",
       "      <td>1</td>\n",
       "    </tr>\n",
       "    <tr>\n",
       "      <th>1</th>\n",
       "      <td>9/1/2021</td>\n",
       "      <td>9/1/2021 21:29:28</td>\n",
       "      <td>2106705274</td>\n",
       "      <td>PRE</td>\n",
       "      <td>SMSBAS</td>\n",
       "      <td>JK0</td>\n",
       "      <td>JAKARTA</td>\n",
       "      <td>KA0</td>\n",
       "      <td>JKT</td>\n",
       "      <td>623</td>\n",
       "      <td>50</td>\n",
       "      <td>0.0</td>\n",
       "      <td>1</td>\n",
       "    </tr>\n",
       "    <tr>\n",
       "      <th>2</th>\n",
       "      <td>9/1/2021</td>\n",
       "      <td>9/1/2021 21:36:35</td>\n",
       "      <td>2106705274</td>\n",
       "      <td>PRE</td>\n",
       "      <td>SMSBAS</td>\n",
       "      <td>JK0</td>\n",
       "      <td>JAKARTA</td>\n",
       "      <td>KA0</td>\n",
       "      <td>JKT</td>\n",
       "      <td>573</td>\n",
       "      <td>50</td>\n",
       "      <td>0.0</td>\n",
       "      <td>1</td>\n",
       "    </tr>\n",
       "    <tr>\n",
       "      <th>3</th>\n",
       "      <td>9/1/2021</td>\n",
       "      <td>9/1/2021 7:43:24</td>\n",
       "      <td>1075588229</td>\n",
       "      <td>PRE</td>\n",
       "      <td>VASOCC</td>\n",
       "      <td>NOPOC</td>\n",
       "      <td>JAKARTA</td>\n",
       "      <td>B</td>\n",
       "      <td>NOPOC</td>\n",
       "      <td>7220</td>\n",
       "      <td>5500</td>\n",
       "      <td>0.0</td>\n",
       "      <td>1</td>\n",
       "    </tr>\n",
       "    <tr>\n",
       "      <th>4</th>\n",
       "      <td>9/1/2021</td>\n",
       "      <td>9/1/2021 4:24:54</td>\n",
       "      <td>1075588229</td>\n",
       "      <td>PRE</td>\n",
       "      <td>CONTEN</td>\n",
       "      <td>JK0</td>\n",
       "      <td>JAKARTA</td>\n",
       "      <td>JK0</td>\n",
       "      <td>NOPOC</td>\n",
       "      <td>101720</td>\n",
       "      <td>55</td>\n",
       "      <td>0.0</td>\n",
       "      <td>1048576</td>\n",
       "    </tr>\n",
       "    <tr>\n",
       "      <th>...</th>\n",
       "      <td>...</td>\n",
       "      <td>...</td>\n",
       "      <td>...</td>\n",
       "      <td>...</td>\n",
       "      <td>...</td>\n",
       "      <td>...</td>\n",
       "      <td>...</td>\n",
       "      <td>...</td>\n",
       "      <td>...</td>\n",
       "      <td>...</td>\n",
       "      <td>...</td>\n",
       "      <td>...</td>\n",
       "      <td>...</td>\n",
       "    </tr>\n",
       "    <tr>\n",
       "      <th>43942</th>\n",
       "      <td>4/30/2022</td>\n",
       "      <td>4/30/2022 18:22:21</td>\n",
       "      <td>712325998</td>\n",
       "      <td>PRE</td>\n",
       "      <td>NATNAL</td>\n",
       "      <td>JK0</td>\n",
       "      <td>JAKARTA</td>\n",
       "      <td>BD6</td>\n",
       "      <td>BDG</td>\n",
       "      <td>2206</td>\n",
       "      <td>3950</td>\n",
       "      <td>0.0</td>\n",
       "      <td>2460</td>\n",
       "    </tr>\n",
       "    <tr>\n",
       "      <th>43943</th>\n",
       "      <td>4/30/2022</td>\n",
       "      <td>4/30/2022 7:49:52</td>\n",
       "      <td>712325998</td>\n",
       "      <td>PRE</td>\n",
       "      <td>NATNAL</td>\n",
       "      <td>JK0</td>\n",
       "      <td>JAKARTA</td>\n",
       "      <td>BD6</td>\n",
       "      <td>BDG</td>\n",
       "      <td>6788</td>\n",
       "      <td>346</td>\n",
       "      <td>0.0</td>\n",
       "      <td>470</td>\n",
       "    </tr>\n",
       "    <tr>\n",
       "      <th>43944</th>\n",
       "      <td>4/30/2022</td>\n",
       "      <td>4/30/2022 20:39:32</td>\n",
       "      <td>1182349800</td>\n",
       "      <td>PRE</td>\n",
       "      <td>CONTEN</td>\n",
       "      <td>JK0</td>\n",
       "      <td>JAKARTA</td>\n",
       "      <td>SB0</td>\n",
       "      <td>NOPOC</td>\n",
       "      <td>1567</td>\n",
       "      <td>668</td>\n",
       "      <td>0.0</td>\n",
       "      <td>34201600</td>\n",
       "    </tr>\n",
       "    <tr>\n",
       "      <th>43945</th>\n",
       "      <td>4/30/2022</td>\n",
       "      <td>4/30/2022 11:27:42</td>\n",
       "      <td>1182349800</td>\n",
       "      <td>PRE</td>\n",
       "      <td>CONTEN</td>\n",
       "      <td>JK0</td>\n",
       "      <td>JAKARTA</td>\n",
       "      <td>SB0</td>\n",
       "      <td>NOPOC</td>\n",
       "      <td>5415</td>\n",
       "      <td>6</td>\n",
       "      <td>0.0</td>\n",
       "      <td>307200</td>\n",
       "    </tr>\n",
       "    <tr>\n",
       "      <th>43946</th>\n",
       "      <td>4/30/2022</td>\n",
       "      <td>4/30/2022 22:27:26</td>\n",
       "      <td>767791937</td>\n",
       "      <td>PRE</td>\n",
       "      <td>NATNAL</td>\n",
       "      <td>MD2</td>\n",
       "      <td>TEBING TINGGI DELI</td>\n",
       "      <td>BD6</td>\n",
       "      <td>BDG</td>\n",
       "      <td>23153</td>\n",
       "      <td>800</td>\n",
       "      <td>0.0</td>\n",
       "      <td>800</td>\n",
       "    </tr>\n",
       "  </tbody>\n",
       "</table>\n",
       "<p>43940 rows × 13 columns</p>\n",
       "</div>"
      ],
      "text/plain": [
       "            date           date_time     subs_no payment_type service_type   \n",
       "0       9/1/2021   9/1/2021 21:24:31  2106705274          PRE       SMSBAS  \\\n",
       "1       9/1/2021   9/1/2021 21:29:28  2106705274          PRE       SMSBAS   \n",
       "2       9/1/2021   9/1/2021 21:36:35  2106705274          PRE       SMSBAS   \n",
       "3       9/1/2021    9/1/2021 7:43:24  1075588229          PRE       VASOCC   \n",
       "4       9/1/2021    9/1/2021 4:24:54  1075588229          PRE       CONTEN   \n",
       "...          ...                 ...         ...          ...          ...   \n",
       "43942  4/30/2022  4/30/2022 18:22:21   712325998          PRE       NATNAL   \n",
       "43943  4/30/2022   4/30/2022 7:49:52   712325998          PRE       NATNAL   \n",
       "43944  4/30/2022  4/30/2022 20:39:32  1182349800          PRE       CONTEN   \n",
       "43945  4/30/2022  4/30/2022 11:27:42  1182349800          PRE       CONTEN   \n",
       "43946  4/30/2022  4/30/2022 22:27:26   767791937          PRE       NATNAL   \n",
       "\n",
       "      home_poc           city_name physical_poc destination_poc   \n",
       "0          JK0             JAKARTA          KA0             JKT  \\\n",
       "1          JK0             JAKARTA          KA0             JKT   \n",
       "2          JK0             JAKARTA          KA0             JKT   \n",
       "3        NOPOC             JAKARTA            B           NOPOC   \n",
       "4          JK0             JAKARTA          JK0           NOPOC   \n",
       "...        ...                 ...          ...             ...   \n",
       "43942      JK0             JAKARTA          BD6             BDG   \n",
       "43943      JK0             JAKARTA          BD6             BDG   \n",
       "43944      JK0             JAKARTA          SB0           NOPOC   \n",
       "43945      JK0             JAKARTA          SB0           NOPOC   \n",
       "43946      MD2  TEBING TINGGI DELI          BD6             BDG   \n",
       "\n",
       "      remaining_balance amount_of_trx  free_unit usage_unit  \n",
       "0                   673            50        0.0          1  \n",
       "1                   623            50        0.0          1  \n",
       "2                   573            50        0.0          1  \n",
       "3                  7220          5500        0.0          1  \n",
       "4                101720            55        0.0    1048576  \n",
       "...                 ...           ...        ...        ...  \n",
       "43942              2206          3950        0.0       2460  \n",
       "43943              6788           346        0.0        470  \n",
       "43944              1567           668        0.0   34201600  \n",
       "43945              5415             6        0.0     307200  \n",
       "43946             23153           800        0.0        800  \n",
       "\n",
       "[43940 rows x 13 columns]"
      ]
     },
     "execution_count": 20,
     "metadata": {},
     "output_type": "execute_result"
    }
   ],
   "source": [
    "# delete\n",
    "def non_numeric(x):\n",
    "    non_numeric_mask = data[x].astype(str).str.contains('[^0-9.-]')\n",
    "    data.drop(data[non_numeric_mask].index, inplace=True)\n",
    "    return data\n",
    "\n",
    "non_numeric('remaining_balance')"
   ]
  },
  {
   "cell_type": "code",
   "execution_count": 21,
   "metadata": {},
   "outputs": [
    {
     "data": {
      "text/html": [
       "<div>\n",
       "<style scoped>\n",
       "    .dataframe tbody tr th:only-of-type {\n",
       "        vertical-align: middle;\n",
       "    }\n",
       "\n",
       "    .dataframe tbody tr th {\n",
       "        vertical-align: top;\n",
       "    }\n",
       "\n",
       "    .dataframe thead th {\n",
       "        text-align: right;\n",
       "    }\n",
       "</style>\n",
       "<table border=\"1\" class=\"dataframe\">\n",
       "  <thead>\n",
       "    <tr style=\"text-align: right;\">\n",
       "      <th></th>\n",
       "      <th>date</th>\n",
       "      <th>date_time</th>\n",
       "      <th>subs_no</th>\n",
       "      <th>payment_type</th>\n",
       "      <th>service_type</th>\n",
       "      <th>home_poc</th>\n",
       "      <th>city_name</th>\n",
       "      <th>physical_poc</th>\n",
       "      <th>destination_poc</th>\n",
       "      <th>remaining_balance</th>\n",
       "      <th>amount_of_trx</th>\n",
       "      <th>free_unit</th>\n",
       "      <th>usage_unit</th>\n",
       "    </tr>\n",
       "  </thead>\n",
       "  <tbody>\n",
       "  </tbody>\n",
       "</table>\n",
       "</div>"
      ],
      "text/plain": [
       "Empty DataFrame\n",
       "Columns: [date, date_time, subs_no, payment_type, service_type, home_poc, city_name, physical_poc, destination_poc, remaining_balance, amount_of_trx, free_unit, usage_unit]\n",
       "Index: []"
      ]
     },
     "execution_count": 21,
     "metadata": {},
     "output_type": "execute_result"
    }
   ],
   "source": [
    "# recheck\n",
    "def non_numeric(x):\n",
    "    non_numeric_data = pd.DataFrame(data[data[x].astype(str).str.contains('[^0-9.-]')])\n",
    "    return non_numeric_data\n",
    "\n",
    "non_numeric('remaining_balance')"
   ]
  },
  {
   "cell_type": "code",
   "execution_count": 22,
   "metadata": {},
   "outputs": [
    {
     "data": {
      "text/html": [
       "<div>\n",
       "<style scoped>\n",
       "    .dataframe tbody tr th:only-of-type {\n",
       "        vertical-align: middle;\n",
       "    }\n",
       "\n",
       "    .dataframe tbody tr th {\n",
       "        vertical-align: top;\n",
       "    }\n",
       "\n",
       "    .dataframe thead th {\n",
       "        text-align: right;\n",
       "    }\n",
       "</style>\n",
       "<table border=\"1\" class=\"dataframe\">\n",
       "  <thead>\n",
       "    <tr style=\"text-align: right;\">\n",
       "      <th></th>\n",
       "      <th>date</th>\n",
       "      <th>date_time</th>\n",
       "      <th>subs_no</th>\n",
       "      <th>payment_type</th>\n",
       "      <th>service_type</th>\n",
       "      <th>home_poc</th>\n",
       "      <th>city_name</th>\n",
       "      <th>physical_poc</th>\n",
       "      <th>destination_poc</th>\n",
       "      <th>remaining_balance</th>\n",
       "      <th>amount_of_trx</th>\n",
       "      <th>free_unit</th>\n",
       "      <th>usage_unit</th>\n",
       "    </tr>\n",
       "  </thead>\n",
       "  <tbody>\n",
       "  </tbody>\n",
       "</table>\n",
       "</div>"
      ],
      "text/plain": [
       "Empty DataFrame\n",
       "Columns: [date, date_time, subs_no, payment_type, service_type, home_poc, city_name, physical_poc, destination_poc, remaining_balance, amount_of_trx, free_unit, usage_unit]\n",
       "Index: []"
      ]
     },
     "execution_count": 22,
     "metadata": {},
     "output_type": "execute_result"
    }
   ],
   "source": [
    "non_numeric('amount_of_trx')"
   ]
  },
  {
   "cell_type": "code",
   "execution_count": 23,
   "metadata": {},
   "outputs": [
    {
     "data": {
      "text/html": [
       "<div>\n",
       "<style scoped>\n",
       "    .dataframe tbody tr th:only-of-type {\n",
       "        vertical-align: middle;\n",
       "    }\n",
       "\n",
       "    .dataframe tbody tr th {\n",
       "        vertical-align: top;\n",
       "    }\n",
       "\n",
       "    .dataframe thead th {\n",
       "        text-align: right;\n",
       "    }\n",
       "</style>\n",
       "<table border=\"1\" class=\"dataframe\">\n",
       "  <thead>\n",
       "    <tr style=\"text-align: right;\">\n",
       "      <th></th>\n",
       "      <th>date</th>\n",
       "      <th>date_time</th>\n",
       "      <th>subs_no</th>\n",
       "      <th>payment_type</th>\n",
       "      <th>service_type</th>\n",
       "      <th>home_poc</th>\n",
       "      <th>city_name</th>\n",
       "      <th>physical_poc</th>\n",
       "      <th>destination_poc</th>\n",
       "      <th>remaining_balance</th>\n",
       "      <th>amount_of_trx</th>\n",
       "      <th>free_unit</th>\n",
       "      <th>usage_unit</th>\n",
       "    </tr>\n",
       "  </thead>\n",
       "  <tbody>\n",
       "  </tbody>\n",
       "</table>\n",
       "</div>"
      ],
      "text/plain": [
       "Empty DataFrame\n",
       "Columns: [date, date_time, subs_no, payment_type, service_type, home_poc, city_name, physical_poc, destination_poc, remaining_balance, amount_of_trx, free_unit, usage_unit]\n",
       "Index: []"
      ]
     },
     "execution_count": 23,
     "metadata": {},
     "output_type": "execute_result"
    }
   ],
   "source": [
    "non_numeric('free_unit')"
   ]
  },
  {
   "cell_type": "code",
   "execution_count": 24,
   "metadata": {},
   "outputs": [
    {
     "data": {
      "text/html": [
       "<div>\n",
       "<style scoped>\n",
       "    .dataframe tbody tr th:only-of-type {\n",
       "        vertical-align: middle;\n",
       "    }\n",
       "\n",
       "    .dataframe tbody tr th {\n",
       "        vertical-align: top;\n",
       "    }\n",
       "\n",
       "    .dataframe thead th {\n",
       "        text-align: right;\n",
       "    }\n",
       "</style>\n",
       "<table border=\"1\" class=\"dataframe\">\n",
       "  <thead>\n",
       "    <tr style=\"text-align: right;\">\n",
       "      <th></th>\n",
       "      <th>date</th>\n",
       "      <th>date_time</th>\n",
       "      <th>subs_no</th>\n",
       "      <th>payment_type</th>\n",
       "      <th>service_type</th>\n",
       "      <th>home_poc</th>\n",
       "      <th>city_name</th>\n",
       "      <th>physical_poc</th>\n",
       "      <th>destination_poc</th>\n",
       "      <th>remaining_balance</th>\n",
       "      <th>amount_of_trx</th>\n",
       "      <th>free_unit</th>\n",
       "      <th>usage_unit</th>\n",
       "    </tr>\n",
       "  </thead>\n",
       "  <tbody>\n",
       "  </tbody>\n",
       "</table>\n",
       "</div>"
      ],
      "text/plain": [
       "Empty DataFrame\n",
       "Columns: [date, date_time, subs_no, payment_type, service_type, home_poc, city_name, physical_poc, destination_poc, remaining_balance, amount_of_trx, free_unit, usage_unit]\n",
       "Index: []"
      ]
     },
     "execution_count": 24,
     "metadata": {},
     "output_type": "execute_result"
    }
   ],
   "source": [
    "non_numeric('usage_unit')"
   ]
  },
  {
   "cell_type": "code",
   "execution_count": 25,
   "metadata": {},
   "outputs": [],
   "source": [
    "data['amount_of_trx'] = data['amount_of_trx'].astype(float)\n",
    "data['remaining_balance'] = data['remaining_balance'].astype(float)\n",
    "data['usage_unit'] = data['usage_unit'].astype(float)"
   ]
  },
  {
   "attachments": {},
   "cell_type": "markdown",
   "metadata": {},
   "source": [
    "9.) Split Time from 'date_time' Column"
   ]
  },
  {
   "cell_type": "code",
   "execution_count": 26,
   "metadata": {},
   "outputs": [],
   "source": [
    "data['date_time'] = pd.to_datetime(data['date_time'])\n",
    "data['date'] = pd.to_datetime(data['date'])"
   ]
  },
  {
   "cell_type": "code",
   "execution_count": 27,
   "metadata": {},
   "outputs": [],
   "source": [
    "#drop the date column\n",
    "#data = data.drop(['date'], axis = 1)"
   ]
  },
  {
   "cell_type": "code",
   "execution_count": 28,
   "metadata": {},
   "outputs": [],
   "source": [
    "#create separate column \n",
    "data['year'] = data['date_time'].dt.year\n",
    "data['month'] = data['date_time'].dt.month\n",
    "data['day'] = data['date_time'].dt.day\n",
    "data['day_name'] = data['date_time'].dt.day_name()\n",
    "data['month_name'] = data ['date_time'].dt.month_name()\n",
    "data['hour'] = data['date_time'].dt.hour\n",
    "#data['minute'] = data['date_time'].dt.minute"
   ]
  },
  {
   "cell_type": "code",
   "execution_count": 29,
   "metadata": {},
   "outputs": [],
   "source": [
    "order = [\n",
    "    'date_time',\n",
    "    'date',\n",
    "    'year',\n",
    "    'month',\n",
    "    'month_name',\n",
    "    'day',\n",
    "    'day_name',\n",
    "    'hour',\n",
    "    'service_type',\n",
    "    'payment_type',\n",
    "    'subs_no',\n",
    "    'home_poc',\n",
    "    'city_name',\n",
    "    'physical_poc',\n",
    "    'destination_poc',\n",
    "    'remaining_balance',\n",
    "    'amount_of_trx',\n",
    "    'free_unit',\n",
    "    'usage_unit'\n",
    "]\n",
    "\n",
    "data = data[order]"
   ]
  },
  {
   "cell_type": "code",
   "execution_count": 30,
   "metadata": {},
   "outputs": [
    {
     "name": "stderr",
     "output_type": "stream",
     "text": [
      "C:\\Users\\Kayla\\AppData\\Local\\Temp\\ipykernel_32292\\2202312113.py:5: SettingWithCopyWarning: \n",
      "A value is trying to be set on a copy of a slice from a DataFrame.\n",
      "Try using .loc[row_indexer,col_indexer] = value instead\n",
      "\n",
      "See the caveats in the documentation: https://pandas.pydata.org/pandas-docs/stable/user_guide/indexing.html#returning-a-view-versus-a-copy\n",
      "  data['servicetype_code'] = LE.transform(data['service_type'])\n"
     ]
    }
   ],
   "source": [
    "servicetype_code = []\n",
    "\n",
    "LE = LabelEncoder()\n",
    "LE.fit(data['service_type'])\n",
    "data['servicetype_code'] = LE.transform(data['service_type'])"
   ]
  },
  {
   "cell_type": "code",
   "execution_count": 31,
   "metadata": {},
   "outputs": [
    {
     "name": "stdout",
     "output_type": "stream",
     "text": [
      "date_time: 40979 \n",
      "date: 211 \n",
      "year: 2 \n",
      "month: 6 \n",
      "month_name: 6 \n",
      "day: 31 \n",
      "day_name: 7 \n",
      "hour: 24 \n",
      "service_type: 7 \n",
      "payment_type: 2 \n",
      "subs_no: 861 \n",
      "home_poc: 111 \n",
      "city_name: 107 \n",
      "physical_poc: 101 \n",
      "destination_poc: 136 \n",
      "remaining_balance: 24880 \n",
      "amount_of_trx: 1986 \n",
      "free_unit: 152 \n",
      "usage_unit: 1605 \n",
      "servicetype_code: 7 \n"
     ]
    }
   ],
   "source": [
    "for col in data.columns:\n",
    "    unique_count = data[col].nunique()\n",
    "    print(f\"{col}: {unique_count} \")"
   ]
  },
  {
   "cell_type": "code",
   "execution_count": 32,
   "metadata": {},
   "outputs": [
    {
     "data": {
      "text/html": [
       "<div>\n",
       "<style scoped>\n",
       "    .dataframe tbody tr th:only-of-type {\n",
       "        vertical-align: middle;\n",
       "    }\n",
       "\n",
       "    .dataframe tbody tr th {\n",
       "        vertical-align: top;\n",
       "    }\n",
       "\n",
       "    .dataframe thead th {\n",
       "        text-align: right;\n",
       "    }\n",
       "</style>\n",
       "<table border=\"1\" class=\"dataframe\">\n",
       "  <thead>\n",
       "    <tr style=\"text-align: right;\">\n",
       "      <th></th>\n",
       "      <th>date_time</th>\n",
       "      <th>date</th>\n",
       "      <th>year</th>\n",
       "      <th>month</th>\n",
       "      <th>month_name</th>\n",
       "      <th>day</th>\n",
       "      <th>day_name</th>\n",
       "      <th>hour</th>\n",
       "      <th>service_type</th>\n",
       "      <th>payment_type</th>\n",
       "      <th>subs_no</th>\n",
       "      <th>home_poc</th>\n",
       "      <th>city_name</th>\n",
       "      <th>physical_poc</th>\n",
       "      <th>destination_poc</th>\n",
       "      <th>remaining_balance</th>\n",
       "      <th>amount_of_trx</th>\n",
       "      <th>free_unit</th>\n",
       "      <th>usage_unit</th>\n",
       "      <th>servicetype_code</th>\n",
       "    </tr>\n",
       "  </thead>\n",
       "  <tbody>\n",
       "    <tr>\n",
       "      <th>0</th>\n",
       "      <td>2021-09-01 21:24:31</td>\n",
       "      <td>2021-09-01</td>\n",
       "      <td>2021</td>\n",
       "      <td>9</td>\n",
       "      <td>September</td>\n",
       "      <td>1</td>\n",
       "      <td>Wednesday</td>\n",
       "      <td>21</td>\n",
       "      <td>SMSBAS</td>\n",
       "      <td>PRE</td>\n",
       "      <td>2106705274</td>\n",
       "      <td>JK0</td>\n",
       "      <td>JAKARTA</td>\n",
       "      <td>KA0</td>\n",
       "      <td>JKT</td>\n",
       "      <td>673.0</td>\n",
       "      <td>50.0</td>\n",
       "      <td>0.0</td>\n",
       "      <td>1.0</td>\n",
       "      <td>3</td>\n",
       "    </tr>\n",
       "    <tr>\n",
       "      <th>1</th>\n",
       "      <td>2021-09-01 21:29:28</td>\n",
       "      <td>2021-09-01</td>\n",
       "      <td>2021</td>\n",
       "      <td>9</td>\n",
       "      <td>September</td>\n",
       "      <td>1</td>\n",
       "      <td>Wednesday</td>\n",
       "      <td>21</td>\n",
       "      <td>SMSBAS</td>\n",
       "      <td>PRE</td>\n",
       "      <td>2106705274</td>\n",
       "      <td>JK0</td>\n",
       "      <td>JAKARTA</td>\n",
       "      <td>KA0</td>\n",
       "      <td>JKT</td>\n",
       "      <td>623.0</td>\n",
       "      <td>50.0</td>\n",
       "      <td>0.0</td>\n",
       "      <td>1.0</td>\n",
       "      <td>3</td>\n",
       "    </tr>\n",
       "    <tr>\n",
       "      <th>2</th>\n",
       "      <td>2021-09-01 21:36:35</td>\n",
       "      <td>2021-09-01</td>\n",
       "      <td>2021</td>\n",
       "      <td>9</td>\n",
       "      <td>September</td>\n",
       "      <td>1</td>\n",
       "      <td>Wednesday</td>\n",
       "      <td>21</td>\n",
       "      <td>SMSBAS</td>\n",
       "      <td>PRE</td>\n",
       "      <td>2106705274</td>\n",
       "      <td>JK0</td>\n",
       "      <td>JAKARTA</td>\n",
       "      <td>KA0</td>\n",
       "      <td>JKT</td>\n",
       "      <td>573.0</td>\n",
       "      <td>50.0</td>\n",
       "      <td>0.0</td>\n",
       "      <td>1.0</td>\n",
       "      <td>3</td>\n",
       "    </tr>\n",
       "    <tr>\n",
       "      <th>3</th>\n",
       "      <td>2021-09-01 07:43:24</td>\n",
       "      <td>2021-09-01</td>\n",
       "      <td>2021</td>\n",
       "      <td>9</td>\n",
       "      <td>September</td>\n",
       "      <td>1</td>\n",
       "      <td>Wednesday</td>\n",
       "      <td>7</td>\n",
       "      <td>VASOCC</td>\n",
       "      <td>PRE</td>\n",
       "      <td>1075588229</td>\n",
       "      <td>NOPOC</td>\n",
       "      <td>JAKARTA</td>\n",
       "      <td>B</td>\n",
       "      <td>NOPOC</td>\n",
       "      <td>7220.0</td>\n",
       "      <td>5500.0</td>\n",
       "      <td>0.0</td>\n",
       "      <td>1.0</td>\n",
       "      <td>6</td>\n",
       "    </tr>\n",
       "    <tr>\n",
       "      <th>4</th>\n",
       "      <td>2021-09-01 04:24:54</td>\n",
       "      <td>2021-09-01</td>\n",
       "      <td>2021</td>\n",
       "      <td>9</td>\n",
       "      <td>September</td>\n",
       "      <td>1</td>\n",
       "      <td>Wednesday</td>\n",
       "      <td>4</td>\n",
       "      <td>CONTEN</td>\n",
       "      <td>PRE</td>\n",
       "      <td>1075588229</td>\n",
       "      <td>JK0</td>\n",
       "      <td>JAKARTA</td>\n",
       "      <td>JK0</td>\n",
       "      <td>NOPOC</td>\n",
       "      <td>101720.0</td>\n",
       "      <td>55.0</td>\n",
       "      <td>0.0</td>\n",
       "      <td>1048576.0</td>\n",
       "      <td>0</td>\n",
       "    </tr>\n",
       "  </tbody>\n",
       "</table>\n",
       "</div>"
      ],
      "text/plain": [
       "            date_time       date  year  month month_name  day   day_name   \n",
       "0 2021-09-01 21:24:31 2021-09-01  2021      9  September    1  Wednesday  \\\n",
       "1 2021-09-01 21:29:28 2021-09-01  2021      9  September    1  Wednesday   \n",
       "2 2021-09-01 21:36:35 2021-09-01  2021      9  September    1  Wednesday   \n",
       "3 2021-09-01 07:43:24 2021-09-01  2021      9  September    1  Wednesday   \n",
       "4 2021-09-01 04:24:54 2021-09-01  2021      9  September    1  Wednesday   \n",
       "\n",
       "   hour service_type payment_type     subs_no home_poc city_name physical_poc   \n",
       "0    21       SMSBAS          PRE  2106705274      JK0   JAKARTA          KA0  \\\n",
       "1    21       SMSBAS          PRE  2106705274      JK0   JAKARTA          KA0   \n",
       "2    21       SMSBAS          PRE  2106705274      JK0   JAKARTA          KA0   \n",
       "3     7       VASOCC          PRE  1075588229    NOPOC   JAKARTA            B   \n",
       "4     4       CONTEN          PRE  1075588229      JK0   JAKARTA          JK0   \n",
       "\n",
       "  destination_poc  remaining_balance  amount_of_trx  free_unit  usage_unit   \n",
       "0             JKT              673.0           50.0        0.0         1.0  \\\n",
       "1             JKT              623.0           50.0        0.0         1.0   \n",
       "2             JKT              573.0           50.0        0.0         1.0   \n",
       "3           NOPOC             7220.0         5500.0        0.0         1.0   \n",
       "4           NOPOC           101720.0           55.0        0.0   1048576.0   \n",
       "\n",
       "   servicetype_code  \n",
       "0                 3  \n",
       "1                 3  \n",
       "2                 3  \n",
       "3                 6  \n",
       "4                 0  "
      ]
     },
     "execution_count": 32,
     "metadata": {},
     "output_type": "execute_result"
    }
   ],
   "source": [
    "data.head()"
   ]
  },
  {
   "attachments": {},
   "cell_type": "markdown",
   "metadata": {},
   "source": [
    "DATA PREPARATION FOR MACHINE LEARNING -------------------------------------------------------------------------------"
   ]
  },
  {
   "attachments": {},
   "cell_type": "markdown",
   "metadata": {},
   "source": [
    "1.) Categorizing Time"
   ]
  },
  {
   "cell_type": "code",
   "execution_count": 33,
   "metadata": {},
   "outputs": [],
   "source": [
    "data = data.drop(['date', 'date_time', 'month_name','servicetype_code'], axis = 1)"
   ]
  },
  {
   "cell_type": "code",
   "execution_count": 34,
   "metadata": {},
   "outputs": [
    {
     "data": {
      "text/html": [
       "<div>\n",
       "<style scoped>\n",
       "    .dataframe tbody tr th:only-of-type {\n",
       "        vertical-align: middle;\n",
       "    }\n",
       "\n",
       "    .dataframe tbody tr th {\n",
       "        vertical-align: top;\n",
       "    }\n",
       "\n",
       "    .dataframe thead th {\n",
       "        text-align: right;\n",
       "    }\n",
       "</style>\n",
       "<table border=\"1\" class=\"dataframe\">\n",
       "  <thead>\n",
       "    <tr style=\"text-align: right;\">\n",
       "      <th></th>\n",
       "      <th>year</th>\n",
       "      <th>month</th>\n",
       "      <th>day</th>\n",
       "      <th>day_name</th>\n",
       "      <th>hour</th>\n",
       "      <th>service_type</th>\n",
       "      <th>payment_type</th>\n",
       "      <th>subs_no</th>\n",
       "      <th>home_poc</th>\n",
       "      <th>city_name</th>\n",
       "      <th>physical_poc</th>\n",
       "      <th>destination_poc</th>\n",
       "      <th>remaining_balance</th>\n",
       "      <th>amount_of_trx</th>\n",
       "      <th>free_unit</th>\n",
       "      <th>usage_unit</th>\n",
       "    </tr>\n",
       "  </thead>\n",
       "  <tbody>\n",
       "    <tr>\n",
       "      <th>0</th>\n",
       "      <td>2021</td>\n",
       "      <td>9</td>\n",
       "      <td>1</td>\n",
       "      <td>Wednesday</td>\n",
       "      <td>21</td>\n",
       "      <td>SMSBAS</td>\n",
       "      <td>PRE</td>\n",
       "      <td>2106705274</td>\n",
       "      <td>JK0</td>\n",
       "      <td>JAKARTA</td>\n",
       "      <td>KA0</td>\n",
       "      <td>JKT</td>\n",
       "      <td>673.0</td>\n",
       "      <td>50.0</td>\n",
       "      <td>0.0</td>\n",
       "      <td>1.0</td>\n",
       "    </tr>\n",
       "    <tr>\n",
       "      <th>1</th>\n",
       "      <td>2021</td>\n",
       "      <td>9</td>\n",
       "      <td>1</td>\n",
       "      <td>Wednesday</td>\n",
       "      <td>21</td>\n",
       "      <td>SMSBAS</td>\n",
       "      <td>PRE</td>\n",
       "      <td>2106705274</td>\n",
       "      <td>JK0</td>\n",
       "      <td>JAKARTA</td>\n",
       "      <td>KA0</td>\n",
       "      <td>JKT</td>\n",
       "      <td>623.0</td>\n",
       "      <td>50.0</td>\n",
       "      <td>0.0</td>\n",
       "      <td>1.0</td>\n",
       "    </tr>\n",
       "    <tr>\n",
       "      <th>2</th>\n",
       "      <td>2021</td>\n",
       "      <td>9</td>\n",
       "      <td>1</td>\n",
       "      <td>Wednesday</td>\n",
       "      <td>21</td>\n",
       "      <td>SMSBAS</td>\n",
       "      <td>PRE</td>\n",
       "      <td>2106705274</td>\n",
       "      <td>JK0</td>\n",
       "      <td>JAKARTA</td>\n",
       "      <td>KA0</td>\n",
       "      <td>JKT</td>\n",
       "      <td>573.0</td>\n",
       "      <td>50.0</td>\n",
       "      <td>0.0</td>\n",
       "      <td>1.0</td>\n",
       "    </tr>\n",
       "    <tr>\n",
       "      <th>3</th>\n",
       "      <td>2021</td>\n",
       "      <td>9</td>\n",
       "      <td>1</td>\n",
       "      <td>Wednesday</td>\n",
       "      <td>7</td>\n",
       "      <td>VASOCC</td>\n",
       "      <td>PRE</td>\n",
       "      <td>1075588229</td>\n",
       "      <td>NOPOC</td>\n",
       "      <td>JAKARTA</td>\n",
       "      <td>B</td>\n",
       "      <td>NOPOC</td>\n",
       "      <td>7220.0</td>\n",
       "      <td>5500.0</td>\n",
       "      <td>0.0</td>\n",
       "      <td>1.0</td>\n",
       "    </tr>\n",
       "    <tr>\n",
       "      <th>4</th>\n",
       "      <td>2021</td>\n",
       "      <td>9</td>\n",
       "      <td>1</td>\n",
       "      <td>Wednesday</td>\n",
       "      <td>4</td>\n",
       "      <td>CONTEN</td>\n",
       "      <td>PRE</td>\n",
       "      <td>1075588229</td>\n",
       "      <td>JK0</td>\n",
       "      <td>JAKARTA</td>\n",
       "      <td>JK0</td>\n",
       "      <td>NOPOC</td>\n",
       "      <td>101720.0</td>\n",
       "      <td>55.0</td>\n",
       "      <td>0.0</td>\n",
       "      <td>1048576.0</td>\n",
       "    </tr>\n",
       "  </tbody>\n",
       "</table>\n",
       "</div>"
      ],
      "text/plain": [
       "   year  month  day   day_name  hour service_type payment_type     subs_no   \n",
       "0  2021      9    1  Wednesday    21       SMSBAS          PRE  2106705274  \\\n",
       "1  2021      9    1  Wednesday    21       SMSBAS          PRE  2106705274   \n",
       "2  2021      9    1  Wednesday    21       SMSBAS          PRE  2106705274   \n",
       "3  2021      9    1  Wednesday     7       VASOCC          PRE  1075588229   \n",
       "4  2021      9    1  Wednesday     4       CONTEN          PRE  1075588229   \n",
       "\n",
       "  home_poc city_name physical_poc destination_poc  remaining_balance   \n",
       "0      JK0   JAKARTA          KA0             JKT              673.0  \\\n",
       "1      JK0   JAKARTA          KA0             JKT              623.0   \n",
       "2      JK0   JAKARTA          KA0             JKT              573.0   \n",
       "3    NOPOC   JAKARTA            B           NOPOC             7220.0   \n",
       "4      JK0   JAKARTA          JK0           NOPOC           101720.0   \n",
       "\n",
       "   amount_of_trx  free_unit  usage_unit  \n",
       "0           50.0        0.0         1.0  \n",
       "1           50.0        0.0         1.0  \n",
       "2           50.0        0.0         1.0  \n",
       "3         5500.0        0.0         1.0  \n",
       "4           55.0        0.0   1048576.0  "
      ]
     },
     "execution_count": 34,
     "metadata": {},
     "output_type": "execute_result"
    }
   ],
   "source": [
    "data.head()"
   ]
  },
  {
   "attachments": {},
   "cell_type": "markdown",
   "metadata": {},
   "source": [
    "2.) Data Correlation"
   ]
  },
  {
   "cell_type": "code",
   "execution_count": 35,
   "metadata": {},
   "outputs": [],
   "source": [
    "LE = LabelEncoder()\n",
    "data['day_name'] = LE.fit_transform(data['day_name'])\n",
    "data['service_type'] = LE.fit_transform(data['service_type'])\n",
    "data['payment_type'] = LE.fit_transform(data['payment_type'])\n",
    "data['home_poc'] = LE.fit_transform(data['home_poc'])\n",
    "data['city_name'] = LE.fit_transform(data['city_name'])\n",
    "data['physical_poc'] = LE.fit_transform(data['physical_poc'])\n",
    "data['destination_poc'] = LE.fit_transform(data['destination_poc'])\n"
   ]
  },
  {
   "cell_type": "code",
   "execution_count": 36,
   "metadata": {},
   "outputs": [
    {
     "data": {
      "text/html": [
       "<div>\n",
       "<style scoped>\n",
       "    .dataframe tbody tr th:only-of-type {\n",
       "        vertical-align: middle;\n",
       "    }\n",
       "\n",
       "    .dataframe tbody tr th {\n",
       "        vertical-align: top;\n",
       "    }\n",
       "\n",
       "    .dataframe thead th {\n",
       "        text-align: right;\n",
       "    }\n",
       "</style>\n",
       "<table border=\"1\" class=\"dataframe\">\n",
       "  <thead>\n",
       "    <tr style=\"text-align: right;\">\n",
       "      <th></th>\n",
       "      <th>year</th>\n",
       "      <th>month</th>\n",
       "      <th>day</th>\n",
       "      <th>day_name</th>\n",
       "      <th>hour</th>\n",
       "      <th>service_type</th>\n",
       "      <th>payment_type</th>\n",
       "      <th>subs_no</th>\n",
       "      <th>home_poc</th>\n",
       "      <th>city_name</th>\n",
       "      <th>physical_poc</th>\n",
       "      <th>destination_poc</th>\n",
       "      <th>remaining_balance</th>\n",
       "      <th>amount_of_trx</th>\n",
       "      <th>free_unit</th>\n",
       "      <th>usage_unit</th>\n",
       "    </tr>\n",
       "  </thead>\n",
       "  <tbody>\n",
       "    <tr>\n",
       "      <th>0</th>\n",
       "      <td>2021</td>\n",
       "      <td>9</td>\n",
       "      <td>1</td>\n",
       "      <td>6</td>\n",
       "      <td>21</td>\n",
       "      <td>3</td>\n",
       "      <td>1</td>\n",
       "      <td>2106705274</td>\n",
       "      <td>34</td>\n",
       "      <td>24</td>\n",
       "      <td>39</td>\n",
       "      <td>43</td>\n",
       "      <td>673.0</td>\n",
       "      <td>50.0</td>\n",
       "      <td>0.0</td>\n",
       "      <td>1.0</td>\n",
       "    </tr>\n",
       "    <tr>\n",
       "      <th>1</th>\n",
       "      <td>2021</td>\n",
       "      <td>9</td>\n",
       "      <td>1</td>\n",
       "      <td>6</td>\n",
       "      <td>21</td>\n",
       "      <td>3</td>\n",
       "      <td>1</td>\n",
       "      <td>2106705274</td>\n",
       "      <td>34</td>\n",
       "      <td>24</td>\n",
       "      <td>39</td>\n",
       "      <td>43</td>\n",
       "      <td>623.0</td>\n",
       "      <td>50.0</td>\n",
       "      <td>0.0</td>\n",
       "      <td>1.0</td>\n",
       "    </tr>\n",
       "    <tr>\n",
       "      <th>2</th>\n",
       "      <td>2021</td>\n",
       "      <td>9</td>\n",
       "      <td>1</td>\n",
       "      <td>6</td>\n",
       "      <td>21</td>\n",
       "      <td>3</td>\n",
       "      <td>1</td>\n",
       "      <td>2106705274</td>\n",
       "      <td>34</td>\n",
       "      <td>24</td>\n",
       "      <td>39</td>\n",
       "      <td>43</td>\n",
       "      <td>573.0</td>\n",
       "      <td>50.0</td>\n",
       "      <td>0.0</td>\n",
       "      <td>1.0</td>\n",
       "    </tr>\n",
       "    <tr>\n",
       "      <th>3</th>\n",
       "      <td>2021</td>\n",
       "      <td>9</td>\n",
       "      <td>1</td>\n",
       "      <td>6</td>\n",
       "      <td>7</td>\n",
       "      <td>6</td>\n",
       "      <td>1</td>\n",
       "      <td>1075588229</td>\n",
       "      <td>77</td>\n",
       "      <td>24</td>\n",
       "      <td>2</td>\n",
       "      <td>90</td>\n",
       "      <td>7220.0</td>\n",
       "      <td>5500.0</td>\n",
       "      <td>0.0</td>\n",
       "      <td>1.0</td>\n",
       "    </tr>\n",
       "    <tr>\n",
       "      <th>4</th>\n",
       "      <td>2021</td>\n",
       "      <td>9</td>\n",
       "      <td>1</td>\n",
       "      <td>6</td>\n",
       "      <td>4</td>\n",
       "      <td>0</td>\n",
       "      <td>1</td>\n",
       "      <td>1075588229</td>\n",
       "      <td>34</td>\n",
       "      <td>24</td>\n",
       "      <td>33</td>\n",
       "      <td>90</td>\n",
       "      <td>101720.0</td>\n",
       "      <td>55.0</td>\n",
       "      <td>0.0</td>\n",
       "      <td>1048576.0</td>\n",
       "    </tr>\n",
       "  </tbody>\n",
       "</table>\n",
       "</div>"
      ],
      "text/plain": [
       "   year  month  day  day_name  hour  service_type  payment_type     subs_no   \n",
       "0  2021      9    1         6    21             3             1  2106705274  \\\n",
       "1  2021      9    1         6    21             3             1  2106705274   \n",
       "2  2021      9    1         6    21             3             1  2106705274   \n",
       "3  2021      9    1         6     7             6             1  1075588229   \n",
       "4  2021      9    1         6     4             0             1  1075588229   \n",
       "\n",
       "   home_poc  city_name  physical_poc  destination_poc  remaining_balance   \n",
       "0        34         24            39               43              673.0  \\\n",
       "1        34         24            39               43              623.0   \n",
       "2        34         24            39               43              573.0   \n",
       "3        77         24             2               90             7220.0   \n",
       "4        34         24            33               90           101720.0   \n",
       "\n",
       "   amount_of_trx  free_unit  usage_unit  \n",
       "0           50.0        0.0         1.0  \n",
       "1           50.0        0.0         1.0  \n",
       "2           50.0        0.0         1.0  \n",
       "3         5500.0        0.0         1.0  \n",
       "4           55.0        0.0   1048576.0  "
      ]
     },
     "execution_count": 36,
     "metadata": {},
     "output_type": "execute_result"
    }
   ],
   "source": [
    "data.head()"
   ]
  },
  {
   "cell_type": "code",
   "execution_count": 37,
   "metadata": {},
   "outputs": [
    {
     "name": "stdout",
     "output_type": "stream",
     "text": [
      "Axes(0.125,0.11;0.62x0.77)\n"
     ]
    },
    {
     "data": {
      "image/png": "[encoded data removed]",
      "text/plain": [
       "<Figure size 1600x700 with 2 Axes>"
      ]
     },
     "metadata": {},
     "output_type": "display_data"
    }
   ],
   "source": [
    "plt.figure(figsize = (16,7))\n",
    "corr_plot = sns.heatmap(data.corr(),cmap=\"RdBu_r\", annot=True)\n",
    "print(corr_plot)"
   ]
  },
  {
   "attachments": {},
   "cell_type": "markdown",
   "metadata": {},
   "source": [
    "Scaling"
   ]
  },
  {
   "cell_type": "code",
   "execution_count": 38,
   "metadata": {},
   "outputs": [
    {
     "name": "stdout",
     "output_type": "stream",
     "text": [
      "       year  month  day  day_name  hour  service_type  payment_type   \n",
      "0      2021      9    1         6    21             3             1  \\\n",
      "1      2021      9    1         6    21             3             1   \n",
      "2      2021      9    1         6    21             3             1   \n",
      "3      2021      9    1         6     7             6             1   \n",
      "4      2021      9    1         6     4             0             1   \n",
      "...     ...    ...  ...       ...   ...           ...           ...   \n",
      "43942  2022      4   30         2    18             2             1   \n",
      "43943  2022      4   30         2     7             2             1   \n",
      "43944  2022      4   30         2    20             0             1   \n",
      "43945  2022      4   30         2    11             0             1   \n",
      "43946  2022      4   30         2    22             2             1   \n",
      "\n",
      "          subs_no  home_poc  city_name  physical_poc  destination_poc   \n",
      "0      2106705274        34         24            39               43  \\\n",
      "1      2106705274        34         24            39               43   \n",
      "2      2106705274        34         24            39               43   \n",
      "3      1075588229        77         24             2               90   \n",
      "4      1075588229        34         24            33               90   \n",
      "...           ...       ...        ...           ...              ...   \n",
      "43942   712325998        34         24             9               13   \n",
      "43943   712325998        34         24             9               13   \n",
      "43944  1182349800        34         24            80               90   \n",
      "43945  1182349800        34         24            80               90   \n",
      "43946   767791937        57        101             9               13   \n",
      "\n",
      "       remaining_balance  amount_of_trx  free_unit    usage_unit  \n",
      "0               0.002146       0.000463        0.0  0.000000e+00  \n",
      "1               0.002139       0.000463        0.0  0.000000e+00  \n",
      "2               0.002133       0.000463        0.0  0.000000e+00  \n",
      "3               0.003001       0.050926        0.0  0.000000e+00  \n",
      "4               0.015348       0.000509        0.0  1.552794e-03  \n",
      "...                  ...            ...        ...           ...  \n",
      "43942           0.002346       0.036574        0.0  3.641437e-06  \n",
      "43943           0.002945       0.003204        0.0  6.945237e-07  \n",
      "43944           0.002262       0.006185        0.0  5.064781e-02  \n",
      "43945           0.002765       0.000056        0.0  4.549189e-04  \n",
      "43946           0.005083       0.007407        0.0  1.183208e-06  \n",
      "\n",
      "[43940 rows x 16 columns]\n"
     ]
    }
   ],
   "source": [
    "# initialize the MinMaxScaler object\n",
    "scaler = MinMaxScaler()\n",
    "\n",
    "# select the columns to be scaled\n",
    "cols_to_scale = ['remaining_balance', 'amount_of_trx', 'free_unit', 'usage_unit']\n",
    "\n",
    "# fit the scaler on the selected columns\n",
    "scaler.fit(data[cols_to_scale])\n",
    "\n",
    "# transform the selected columns using the scaler\n",
    "data[cols_to_scale] = scaler.transform(data[cols_to_scale])\n",
    "\n",
    "# view the scaled DataFrame\n",
    "print(data)"
   ]
  },
  {
   "attachments": {},
   "cell_type": "markdown",
   "metadata": {},
   "source": [
    "Decision Tree"
   ]
  },
  {
   "cell_type": "code",
   "execution_count": 39,
   "metadata": {},
   "outputs": [],
   "source": [
    "# Import the necessary libraries\n",
    "import pandas as pd #library untuk dataframe\n",
    "import numpy as np #library untuk komputasi\n",
    "from sklearn.tree import DecisionTreeClassifier\n",
    "from sklearn.datasets import load_iris\n",
    "from sklearn.model_selection import train_test_split\n",
    "from sklearn.metrics import accuracy_score,classification_report,confusion_matrix\n",
    "from sklearn import tree\n",
    "from sklearn.preprocessing import LabelEncoder \n",
    "import matplotlib.pyplot as plt"
   ]
  },
  {
   "cell_type": "code",
   "execution_count": 40,
   "metadata": {},
   "outputs": [],
   "source": [
    "data = data.drop(['year', 'day', 'subs_no', 'home_poc', 'physical_poc', 'destination_poc'], axis = 1)"
   ]
  },
  {
   "cell_type": "code",
   "execution_count": 41,
   "metadata": {},
   "outputs": [
    {
     "name": "stdout",
     "output_type": "stream",
     "text": [
      "       month  day_name  hour  payment_type  city_name  remaining_balance   \n",
      "0          9         6    21             1         24           0.002146  \\\n",
      "1          9         6    21             1         24           0.002139   \n",
      "2          9         6    21             1         24           0.002133   \n",
      "3          9         6     7             1         24           0.003001   \n",
      "4          9         6     4             1         24           0.015348   \n",
      "...      ...       ...   ...           ...        ...                ...   \n",
      "43942      4         2    18             1         24           0.002346   \n",
      "43943      4         2     7             1         24           0.002945   \n",
      "43944      4         2    20             1         24           0.002262   \n",
      "43945      4         2    11             1         24           0.002765   \n",
      "43946      4         2    22             1        101           0.005083   \n",
      "\n",
      "       amount_of_trx  free_unit    usage_unit  \n",
      "0           0.000463        0.0  0.000000e+00  \n",
      "1           0.000463        0.0  0.000000e+00  \n",
      "2           0.000463        0.0  0.000000e+00  \n",
      "3           0.050926        0.0  0.000000e+00  \n",
      "4           0.000509        0.0  1.552794e-03  \n",
      "...              ...        ...           ...  \n",
      "43942       0.036574        0.0  3.641437e-06  \n",
      "43943       0.003204        0.0  6.945237e-07  \n",
      "43944       0.006185        0.0  5.064781e-02  \n",
      "43945       0.000056        0.0  4.549189e-04  \n",
      "43946       0.007407        0.0  1.183208e-06  \n",
      "\n",
      "[43940 rows x 9 columns]\n"
     ]
    }
   ],
   "source": [
    "X=data.drop('service_type',axis=1) #menghilangkan output dari kriteria\n",
    "print(X)"
   ]
  },
  {
   "cell_type": "code",
   "execution_count": 42,
   "metadata": {},
   "outputs": [
    {
     "name": "stdout",
     "output_type": "stream",
     "text": [
      "0        3\n",
      "1        3\n",
      "2        3\n",
      "3        6\n",
      "4        0\n",
      "        ..\n",
      "43942    2\n",
      "43943    2\n",
      "43944    0\n",
      "43945    0\n",
      "43946    2\n",
      "Name: service_type, Length: 43940, dtype: int32\n"
     ]
    }
   ],
   "source": [
    "Y=data.service_type # menampilkan kolom label (output/kelas)\n",
    "print(Y)"
   ]
  },
  {
   "cell_type": "code",
   "execution_count": 43,
   "metadata": {},
   "outputs": [
    {
     "name": "stdout",
     "output_type": "stream",
     "text": [
      "<function train_test_split at 0x000001FDE80ACC20>\n"
     ]
    }
   ],
   "source": [
    "print(train_test_split)"
   ]
  },
  {
   "cell_type": "code",
   "execution_count": 44,
   "metadata": {},
   "outputs": [],
   "source": [
    "# Split the dataset into training and testing sets\n",
    "X_train, X_test, Y_train, Y_test = train_test_split(X, Y, test_size=0.2) "
   ]
  },
  {
   "cell_type": "code",
   "execution_count": 45,
   "metadata": {},
   "outputs": [],
   "source": [
    "dt=DecisionTreeClassifier()"
   ]
  },
  {
   "cell_type": "code",
   "execution_count": 46,
   "metadata": {},
   "outputs": [
    {
     "data": {
      "text/html": [
       "<style>#sk-container-id-1 {color: black;background-color: white;}#sk-container-id-1 pre{padding: 0;}#sk-container-id-1 div.sk-toggleable {background-color: white;}#sk-container-id-1 label.sk-toggleable__label {cursor: pointer;display: block;width: 100%;margin-bottom: 0;padding: 0.3em;box-sizing: border-box;text-align: center;}#sk-container-id-1 label.sk-toggleable__label-arrow:before {content: \"▸\";float: left;margin-right: 0.25em;color: #696969;}#sk-container-id-1 label.sk-toggleable__label-arrow:hover:before {color: black;}#sk-container-id-1 div.sk-estimator:hover label.sk-toggleable__label-arrow:before {color: black;}#sk-container-id-1 div.sk-toggleable__content {max-height: 0;max-width: 0;overflow: hidden;text-align: left;background-color: #f0f8ff;}#sk-container-id-1 div.sk-toggleable__content pre {margin: 0.2em;color: black;border-radius: 0.25em;background-color: #f0f8ff;}#sk-container-id-1 input.sk-toggleable__control:checked~div.sk-toggleable__content {max-height: 200px;max-width: 100%;overflow: auto;}#sk-container-id-1 input.sk-toggleable__control:checked~label.sk-toggleable__label-arrow:before {content: \"▾\";}#sk-container-id-1 div.sk-estimator input.sk-toggleable__control:checked~label.sk-toggleable__label {background-color: #d4ebff;}#sk-container-id-1 div.sk-label input.sk-toggleable__control:checked~label.sk-toggleable__label {background-color: #d4ebff;}#sk-container-id-1 input.sk-hidden--visually {border: 0;clip: rect(1px 1px 1px 1px);clip: rect(1px, 1px, 1px, 1px);height: 1px;margin: -1px;overflow: hidden;padding: 0;position: absolute;width: 1px;}#sk-container-id-1 div.sk-estimator {font-family: monospace;background-color: #f0f8ff;border: 1px dotted black;border-radius: 0.25em;box-sizing: border-box;margin-bottom: 0.5em;}#sk-container-id-1 div.sk-estimator:hover {background-color: #d4ebff;}#sk-container-id-1 div.sk-parallel-item::after {content: \"\";width: 100%;border-bottom: 1px solid gray;flex-grow: 1;}#sk-container-id-1 div.sk-label:hover label.sk-toggleable__label {background-color: #d4ebff;}#sk-container-id-1 div.sk-serial::before {content: \"\";position: absolute;border-left: 1px solid gray;box-sizing: border-box;top: 0;bottom: 0;left: 50%;z-index: 0;}#sk-container-id-1 div.sk-serial {display: flex;flex-direction: column;align-items: center;background-color: white;padding-right: 0.2em;padding-left: 0.2em;position: relative;}#sk-container-id-1 div.sk-item {position: relative;z-index: 1;}#sk-container-id-1 div.sk-parallel {display: flex;align-items: stretch;justify-content: center;background-color: white;position: relative;}#sk-container-id-1 div.sk-item::before, #sk-container-id-1 div.sk-parallel-item::before {content: \"\";position: absolute;border-left: 1px solid gray;box-sizing: border-box;top: 0;bottom: 0;left: 50%;z-index: -1;}#sk-container-id-1 div.sk-parallel-item {display: flex;flex-direction: column;z-index: 1;position: relative;background-color: white;}#sk-container-id-1 div.sk-parallel-item:first-child::after {align-self: flex-end;width: 50%;}#sk-container-id-1 div.sk-parallel-item:last-child::after {align-self: flex-start;width: 50%;}#sk-container-id-1 div.sk-parallel-item:only-child::after {width: 0;}#sk-container-id-1 div.sk-dashed-wrapped {border: 1px dashed gray;margin: 0 0.4em 0.5em 0.4em;box-sizing: border-box;padding-bottom: 0.4em;background-color: white;}#sk-container-id-1 div.sk-label label {font-family: monospace;font-weight: bold;display: inline-block;line-height: 1.2em;}#sk-container-id-1 div.sk-label-container {text-align: center;}#sk-container-id-1 div.sk-container {/* jupyter's `normalize.less` sets `[hidden] { display: none; }` but bootstrap.min.css set `[hidden] { display: none !important; }` so we also need the `!important` here to be able to override the default hidden behavior on the sphinx rendered scikit-learn.org. See: https://github.com/scikit-learn/scikit-learn/issues/21755 */display: inline-block !important;position: relative;}#sk-container-id-1 div.sk-text-repr-fallback {display: none;}</style><div id=\"sk-container-id-1\" class=\"sk-top-container\"><div class=\"sk-text-repr-fallback\"><pre>DecisionTreeClassifier()</pre><b>In a Jupyter environment, please rerun this cell to show the HTML representation or trust the notebook. <br />On GitHub, the HTML representation is unable to render, please try loading this page with nbviewer.org.</b></div><div class=\"sk-container\" hidden><div class=\"sk-item\"><div class=\"sk-estimator sk-toggleable\"><input class=\"sk-toggleable__control sk-hidden--visually\" id=\"sk-estimator-id-1\" type=\"checkbox\" checked><label for=\"sk-estimator-id-1\" class=\"sk-toggleable__label sk-toggleable__label-arrow\">DecisionTreeClassifier</label><div class=\"sk-toggleable__content\"><pre>DecisionTreeClassifier()</pre></div></div></div></div></div>"
      ],
      "text/plain": [
       "DecisionTreeClassifier()"
      ]
     },
     "execution_count": 46,
     "metadata": {},
     "output_type": "execute_result"
    }
   ],
   "source": [
    "dt.fit(X_train,Y_train) \n",
    "#melatih data\n"
   ]
  },
  {
   "cell_type": "code",
   "execution_count": 47,
   "metadata": {},
   "outputs": [],
   "source": [
    "Y_pred=dt.predict(X_test)\n",
    "#memprediksi disimpan di Y_pred, yang diprediksi adalah X_test"
   ]
  },
  {
   "cell_type": "code",
   "execution_count": 48,
   "metadata": {},
   "outputs": [
    {
     "name": "stdout",
     "output_type": "stream",
     "text": [
      "Akurasi:  97.57624032771962\n"
     ]
    }
   ],
   "source": [
    "print('Akurasi: ',accuracy_score(Y_test,Y_pred)*100) \n",
    "#membandingkan hasil asli (Y_test) dan hasil prediksi (Y_pred)"
   ]
  },
  {
   "cell_type": "code",
   "execution_count": 49,
   "metadata": {},
   "outputs": [],
   "source": [
    "## convert your array into a dataframe\n",
    "df = pd.DataFrame (Y_pred)\n",
    "\n",
    "## save to xlsx file\n",
    "\n",
    "filepath = 'Y_pred.xlsx'\n",
    "\n",
    "df.to_excel(filepath, index=False)"
   ]
  },
  {
   "cell_type": "code",
   "execution_count": 50,
   "metadata": {},
   "outputs": [
    {
     "name": "stdout",
     "output_type": "stream",
     "text": [
      "Hasil:               precision    recall  f1-score   support\n",
      "\n",
      "           0       1.00      1.00      1.00      2972\n",
      "           1       0.93      0.93      0.93       710\n",
      "           2       0.95      0.96      0.95      2038\n",
      "           3       0.99      0.99      0.99      2020\n",
      "           4       1.00      1.00      1.00        46\n",
      "           5       0.65      0.53      0.59       109\n",
      "           6       0.99      0.99      0.99       893\n",
      "\n",
      "    accuracy                           0.98      8788\n",
      "   macro avg       0.93      0.91      0.92      8788\n",
      "weighted avg       0.98      0.98      0.98      8788\n",
      "\n"
     ]
    }
   ],
   "source": [
    "print('Hasil:',classification_report(Y_test,Y_pred))\n",
    "\n",
    "#membandingkan hasil asli (Y_test) dan hasil prediksi (Y_pred)"
   ]
  },
  {
   "cell_type": "code",
   "execution_count": 51,
   "metadata": {},
   "outputs": [
    {
     "name": "stdout",
     "output_type": "stream",
     "text": [
      "Confusion: [[2971    0    1    0    0    0    0]\n",
      " [   0  659   44    0    0    5    2]\n",
      " [   3   49 1948   12    0   26    0]\n",
      " [   0    0    6 2009    0    0    5]\n",
      " [   0    0    0    0   46    0    0]\n",
      " [   0    2   43    3    0   58    3]\n",
      " [   0    0    1    8    0    0  884]]\n"
     ]
    }
   ],
   "source": [
    "print('Confusion:',confusion_matrix(Y_test,Y_pred))"
   ]
  },
  {
   "cell_type": "code",
   "execution_count": 52,
   "metadata": {},
   "outputs": [
    {
     "data": {
      "text/html": [
       "<style>#sk-container-id-2 {color: black;background-color: white;}#sk-container-id-2 pre{padding: 0;}#sk-container-id-2 div.sk-toggleable {background-color: white;}#sk-container-id-2 label.sk-toggleable__label {cursor: pointer;display: block;width: 100%;margin-bottom: 0;padding: 0.3em;box-sizing: border-box;text-align: center;}#sk-container-id-2 label.sk-toggleable__label-arrow:before {content: \"▸\";float: left;margin-right: 0.25em;color: #696969;}#sk-container-id-2 label.sk-toggleable__label-arrow:hover:before {color: black;}#sk-container-id-2 div.sk-estimator:hover label.sk-toggleable__label-arrow:before {color: black;}#sk-container-id-2 div.sk-toggleable__content {max-height: 0;max-width: 0;overflow: hidden;text-align: left;background-color: #f0f8ff;}#sk-container-id-2 div.sk-toggleable__content pre {margin: 0.2em;color: black;border-radius: 0.25em;background-color: #f0f8ff;}#sk-container-id-2 input.sk-toggleable__control:checked~div.sk-toggleable__content {max-height: 200px;max-width: 100%;overflow: auto;}#sk-container-id-2 input.sk-toggleable__control:checked~label.sk-toggleable__label-arrow:before {content: \"▾\";}#sk-container-id-2 div.sk-estimator input.sk-toggleable__control:checked~label.sk-toggleable__label {background-color: #d4ebff;}#sk-container-id-2 div.sk-label input.sk-toggleable__control:checked~label.sk-toggleable__label {background-color: #d4ebff;}#sk-container-id-2 input.sk-hidden--visually {border: 0;clip: rect(1px 1px 1px 1px);clip: rect(1px, 1px, 1px, 1px);height: 1px;margin: -1px;overflow: hidden;padding: 0;position: absolute;width: 1px;}#sk-container-id-2 div.sk-estimator {font-family: monospace;background-color: #f0f8ff;border: 1px dotted black;border-radius: 0.25em;box-sizing: border-box;margin-bottom: 0.5em;}#sk-container-id-2 div.sk-estimator:hover {background-color: #d4ebff;}#sk-container-id-2 div.sk-parallel-item::after {content: \"\";width: 100%;border-bottom: 1px solid gray;flex-grow: 1;}#sk-container-id-2 div.sk-label:hover label.sk-toggleable__label {background-color: #d4ebff;}#sk-container-id-2 div.sk-serial::before {content: \"\";position: absolute;border-left: 1px solid gray;box-sizing: border-box;top: 0;bottom: 0;left: 50%;z-index: 0;}#sk-container-id-2 div.sk-serial {display: flex;flex-direction: column;align-items: center;background-color: white;padding-right: 0.2em;padding-left: 0.2em;position: relative;}#sk-container-id-2 div.sk-item {position: relative;z-index: 1;}#sk-container-id-2 div.sk-parallel {display: flex;align-items: stretch;justify-content: center;background-color: white;position: relative;}#sk-container-id-2 div.sk-item::before, #sk-container-id-2 div.sk-parallel-item::before {content: \"\";position: absolute;border-left: 1px solid gray;box-sizing: border-box;top: 0;bottom: 0;left: 50%;z-index: -1;}#sk-container-id-2 div.sk-parallel-item {display: flex;flex-direction: column;z-index: 1;position: relative;background-color: white;}#sk-container-id-2 div.sk-parallel-item:first-child::after {align-self: flex-end;width: 50%;}#sk-container-id-2 div.sk-parallel-item:last-child::after {align-self: flex-start;width: 50%;}#sk-container-id-2 div.sk-parallel-item:only-child::after {width: 0;}#sk-container-id-2 div.sk-dashed-wrapped {border: 1px dashed gray;margin: 0 0.4em 0.5em 0.4em;box-sizing: border-box;padding-bottom: 0.4em;background-color: white;}#sk-container-id-2 div.sk-label label {font-family: monospace;font-weight: bold;display: inline-block;line-height: 1.2em;}#sk-container-id-2 div.sk-label-container {text-align: center;}#sk-container-id-2 div.sk-container {/* jupyter's `normalize.less` sets `[hidden] { display: none; }` but bootstrap.min.css set `[hidden] { display: none !important; }` so we also need the `!important` here to be able to override the default hidden behavior on the sphinx rendered scikit-learn.org. See: https://github.com/scikit-learn/scikit-learn/issues/21755 */display: inline-block !important;position: relative;}#sk-container-id-2 div.sk-text-repr-fallback {display: none;}</style><div id=\"sk-container-id-2\" class=\"sk-top-container\"><div class=\"sk-text-repr-fallback\"><pre>DecisionTreeClassifier(max_depth=7, random_state=0)</pre><b>In a Jupyter environment, please rerun this cell to show the HTML representation or trust the notebook. <br />On GitHub, the HTML representation is unable to render, please try loading this page with nbviewer.org.</b></div><div class=\"sk-container\" hidden><div class=\"sk-item\"><div class=\"sk-estimator sk-toggleable\"><input class=\"sk-toggleable__control sk-hidden--visually\" id=\"sk-estimator-id-2\" type=\"checkbox\" checked><label for=\"sk-estimator-id-2\" class=\"sk-toggleable__label sk-toggleable__label-arrow\">DecisionTreeClassifier</label><div class=\"sk-toggleable__content\"><pre>DecisionTreeClassifier(max_depth=7, random_state=0)</pre></div></div></div></div></div>"
      ],
      "text/plain": [
       "DecisionTreeClassifier(max_depth=7, random_state=0)"
      ]
     },
     "execution_count": 52,
     "metadata": {},
     "output_type": "execute_result"
    }
   ],
   "source": [
    "# instantiate the DecisionTreeClassifier model with criterion gini index\n",
    "\n",
    "clf_gini = DecisionTreeClassifier(criterion='gini', max_depth=7, random_state=0) \n",
    "#max depth adalah kedalaman cabang \n",
    "#random state adalah \n",
    "\n",
    "# fit the model\n",
    "clf_gini.fit(X_train, Y_train)\n",
    "#melatih data"
   ]
  },
  {
   "cell_type": "code",
   "execution_count": 53,
   "metadata": {},
   "outputs": [],
   "source": [
    "y_pred_gini = clf_gini.predict(X_test)"
   ]
  },
  {
   "cell_type": "code",
   "execution_count": 54,
   "metadata": {},
   "outputs": [
    {
     "name": "stdout",
     "output_type": "stream",
     "text": [
      "Model accuracy score with criterion gini index: 0.92\n"
     ]
    }
   ],
   "source": [
    "print('Model accuracy score with criterion gini index: {0:0.2f}'. format(accuracy_score(Y_test, y_pred_gini)))\n",
    "#0.04f = 4 angka di belakang koma "
   ]
  },
  {
   "cell_type": "code",
   "execution_count": 55,
   "metadata": {},
   "outputs": [
    {
     "data": {
      "text/plain": [
       "array([3, 2, 6, ..., 0, 0, 2])"
      ]
     },
     "execution_count": 55,
     "metadata": {},
     "output_type": "execute_result"
    }
   ],
   "source": [
    "y_pred_train_gini = clf_gini.predict(X_train)\n",
    "\n",
    "y_pred_train_gini\n",
    "#hasil y prediksi "
   ]
  },
  {
   "cell_type": "code",
   "execution_count": 56,
   "metadata": {},
   "outputs": [],
   "source": [
    "df = pd.DataFrame (y_pred_train_gini)\n",
    "\n",
    "## save to xlsx file\n",
    "filepath = 'y_pred_train_gini.xlsx'\n",
    "df.to_excel(filepath, index=False)"
   ]
  },
  {
   "cell_type": "code",
   "execution_count": 57,
   "metadata": {},
   "outputs": [
    {
     "name": "stdout",
     "output_type": "stream",
     "text": [
      "Training-set accuracy score: 0.9260\n"
     ]
    }
   ],
   "source": [
    "print('Training-set accuracy score: {0:0.4f}'. format(accuracy_score(Y_train, y_pred_train_gini)))"
   ]
  },
  {
   "cell_type": "code",
   "execution_count": 58,
   "metadata": {},
   "outputs": [
    {
     "name": "stdout",
     "output_type": "stream",
     "text": [
      "Training set score: 0.9260\n",
      "Test set score: 0.9165\n"
     ]
    }
   ],
   "source": [
    "# print the scores on training and test set\n",
    "\n",
    "print('Training set score: {0:.4f}'.format(clf_gini.score(X_train, Y_train)))\n",
    "\n",
    "print('Test set score: {0:.4f}'.format(clf_gini.score(X_test, Y_test)))\n",
    "\n",
    "#test set score adalah untuk performa algoritma decision tree nya\n",
    "#training set score adalah untuk model (gini index)"
   ]
  },
  {
   "cell_type": "code",
   "execution_count": 59,
   "metadata": {},
   "outputs": [
    {
     "data": {
      "text/plain": [
       "[Text(0.6659375, 0.9375, 'x[8] <= 0.0\\ngini = 0.762\\nsamples = 35152\\nvalue = [11667, 2917, 8254, 8362, 147, 441, 3364]'),\n",
       " Text(0.515625, 0.8125, 'x[6] <= 0.002\\ngini = 0.721\\nsamples = 23810\\nvalue = [326, 2917, 8253, 8362, 147, 441, 3364]'),\n",
       " Text(0.245, 0.6875, 'x[6] <= 0.0\\ngini = 0.455\\nsamples = 11691\\nvalue = [312, 196, 3119, 8035, 0, 17, 12]'),\n",
       " Text(0.13, 0.5625, 'x[8] <= 0.0\\ngini = 0.478\\nsamples = 1450\\nvalue = [295, 155, 993, 0, 0, 2, 5]'),\n",
       " Text(0.08, 0.4375, 'x[2] <= 3.5\\ngini = 0.244\\nsamples = 1142\\nvalue = [0, 154, 981, 0, 0, 2, 5]'),\n",
       " Text(0.04, 0.3125, 'x[5] <= 0.002\\ngini = 0.401\\nsamples = 54\\nvalue = [0, 39, 15, 0, 0, 0, 0]'),\n",
       " Text(0.02, 0.1875, 'x[2] <= 2.0\\ngini = 0.18\\nsamples = 10\\nvalue = [0, 1, 9, 0, 0, 0, 0]'),\n",
       " Text(0.01, 0.0625, 'gini = 0.0\\nsamples = 7\\nvalue = [0, 0, 7, 0, 0, 0, 0]'),\n",
       " Text(0.03, 0.0625, 'gini = 0.444\\nsamples = 3\\nvalue = [0, 1, 2, 0, 0, 0, 0]'),\n",
       " Text(0.06, 0.1875, 'x[4] <= 36.0\\ngini = 0.236\\nsamples = 44\\nvalue = [0, 38, 6, 0, 0, 0, 0]'),\n",
       " Text(0.05, 0.0625, 'gini = 0.0\\nsamples = 33\\nvalue = [0, 33, 0, 0, 0, 0, 0]'),\n",
       " Text(0.07, 0.0625, 'gini = 0.496\\nsamples = 11\\nvalue = [0, 5, 6, 0, 0, 0, 0]'),\n",
       " Text(0.12, 0.3125, 'x[2] <= 22.5\\ngini = 0.2\\nsamples = 1088\\nvalue = [0, 115, 966, 0, 0, 2, 5]'),\n",
       " Text(0.1, 0.1875, 'x[0] <= 6.5\\ngini = 0.169\\nsamples = 1055\\nvalue = [0, 93, 957, 0, 0, 2, 3]'),\n",
       " Text(0.09, 0.0625, 'gini = 0.017\\nsamples = 351\\nvalue = [0, 0, 348, 0, 0, 0, 3]'),\n",
       " Text(0.11, 0.0625, 'gini = 0.234\\nsamples = 704\\nvalue = [0, 93, 609, 0, 0, 2, 0]'),\n",
       " Text(0.14, 0.1875, 'x[0] <= 6.5\\ngini = 0.478\\nsamples = 33\\nvalue = [0, 22, 9, 0, 0, 0, 2]'),\n",
       " Text(0.13, 0.0625, 'gini = 0.408\\nsamples = 7\\nvalue = [0, 0, 5, 0, 0, 0, 2]'),\n",
       " Text(0.15, 0.0625, 'gini = 0.26\\nsamples = 26\\nvalue = [0, 22, 4, 0, 0, 0, 0]'),\n",
       " Text(0.18, 0.4375, 'x[7] <= 0.013\\ngini = 0.081\\nsamples = 308\\nvalue = [295, 1, 12, 0, 0, 0, 0]'),\n",
       " Text(0.17, 0.3125, 'gini = 0.0\\nsamples = 295\\nvalue = [295, 0, 0, 0, 0, 0, 0]'),\n",
       " Text(0.19, 0.3125, 'x[2] <= 7.5\\ngini = 0.142\\nsamples = 13\\nvalue = [0, 1, 12, 0, 0, 0, 0]'),\n",
       " Text(0.18, 0.1875, 'x[0] <= 5.5\\ngini = 0.5\\nsamples = 2\\nvalue = [0, 1, 1, 0, 0, 0, 0]'),\n",
       " Text(0.17, 0.0625, 'gini = 0.0\\nsamples = 1\\nvalue = [0, 0, 1, 0, 0, 0, 0]'),\n",
       " Text(0.19, 0.0625, 'gini = 0.0\\nsamples = 1\\nvalue = [0, 1, 0, 0, 0, 0, 0]'),\n",
       " Text(0.2, 0.1875, 'gini = 0.0\\nsamples = 11\\nvalue = [0, 0, 11, 0, 0, 0, 0]'),\n",
       " Text(0.36, 0.5625, 'x[6] <= 0.0\\ngini = 0.341\\nsamples = 10241\\nvalue = [17, 41, 2126, 8035, 0, 15, 7]'),\n",
       " Text(0.28, 0.4375, 'x[4] <= 69.5\\ngini = 0.053\\nsamples = 4835\\nvalue = [0, 3, 129, 4703, 0, 0, 0]'),\n",
       " Text(0.24, 0.3125, 'x[8] <= 0.0\\ngini = 0.021\\nsamples = 4478\\nvalue = [0, 3, 45, 4430, 0, 0, 0]'),\n",
       " Text(0.22, 0.1875, 'x[5] <= 0.002\\ngini = 0.015\\nsamples = 4463\\nvalue = [0, 0, 33, 4430, 0, 0, 0]'),\n",
       " Text(0.21, 0.0625, 'gini = 0.0\\nsamples = 2\\nvalue = [0, 0, 2, 0, 0, 0, 0]'),\n",
       " Text(0.23, 0.0625, 'gini = 0.014\\nsamples = 4461\\nvalue = [0, 0, 31, 4430, 0, 0, 0]'),\n",
       " Text(0.26, 0.1875, 'x[4] <= 21.0\\ngini = 0.32\\nsamples = 15\\nvalue = [0, 3, 12, 0, 0, 0, 0]'),\n",
       " Text(0.25, 0.0625, 'gini = 0.0\\nsamples = 1\\nvalue = [0, 1, 0, 0, 0, 0, 0]'),\n",
       " Text(0.27, 0.0625, 'gini = 0.245\\nsamples = 14\\nvalue = [0, 2, 12, 0, 0, 0, 0]'),\n",
       " Text(0.32, 0.3125, 'x[4] <= 86.5\\ngini = 0.36\\nsamples = 357\\nvalue = [0, 0, 84, 273, 0, 0, 0]'),\n",
       " Text(0.3, 0.1875, 'x[5] <= 0.002\\ngini = 0.477\\nsamples = 191\\nvalue = [0, 0, 75, 116, 0, 0, 0]'),\n",
       " Text(0.29, 0.0625, 'gini = 0.26\\nsamples = 78\\nvalue = [0, 0, 12, 66, 0, 0, 0]'),\n",
       " Text(0.31, 0.0625, 'gini = 0.493\\nsamples = 113\\nvalue = [0, 0, 63, 50, 0, 0, 0]'),\n",
       " Text(0.34, 0.1875, 'x[8] <= 0.0\\ngini = 0.103\\nsamples = 166\\nvalue = [0, 0, 9, 157, 0, 0, 0]'),\n",
       " Text(0.33, 0.0625, 'gini = 0.06\\nsamples = 162\\nvalue = [0, 0, 5, 157, 0, 0, 0]'),\n",
       " Text(0.35, 0.0625, 'gini = 0.0\\nsamples = 4\\nvalue = [0, 0, 4, 0, 0, 0, 0]'),\n",
       " Text(0.44, 0.4375, 'x[6] <= 0.002\\ngini = 0.484\\nsamples = 5406\\nvalue = [17, 38, 1997, 3332, 0, 15, 7]'),\n",
       " Text(0.4, 0.3125, 'x[6] <= 0.001\\ngini = 0.332\\nsamples = 2026\\nvalue = [8, 33, 1615, 362, 0, 8, 0]'),\n",
       " Text(0.38, 0.1875, 'x[8] <= 0.0\\ngini = 0.041\\nsamples = 1099\\nvalue = [8, 8, 1076, 0, 0, 7, 0]'),\n",
       " Text(0.37, 0.0625, 'gini = 0.027\\nsamples = 1089\\nvalue = [0, 8, 1074, 0, 0, 7, 0]'),\n",
       " Text(0.39, 0.0625, 'gini = 0.32\\nsamples = 10\\nvalue = [8, 0, 2, 0, 0, 0, 0]'),\n",
       " Text(0.42, 0.1875, 'x[6] <= 0.001\\ngini = 0.509\\nsamples = 927\\nvalue = [0, 25, 539, 362, 0, 1, 0]'),\n",
       " Text(0.41, 0.0625, 'gini = 0.375\\nsamples = 240\\nvalue = [0, 0, 60, 180, 0, 0, 0]'),\n",
       " Text(0.43, 0.0625, 'gini = 0.442\\nsamples = 687\\nvalue = [0, 25, 479, 182, 0, 1, 0]'),\n",
       " Text(0.48, 0.3125, 'x[6] <= 0.002\\ngini = 0.215\\nsamples = 3380\\nvalue = [9, 5, 382, 2970, 0, 7, 7]'),\n",
       " Text(0.46, 0.1875, 'x[8] <= 0.0\\ngini = 0.073\\nsamples = 2723\\nvalue = [0, 0, 104, 2619, 0, 0, 0]'),\n",
       " Text(0.45, 0.0625, 'gini = 0.0\\nsamples = 2619\\nvalue = [0, 0, 0, 2619, 0, 0, 0]'),\n",
       " Text(0.47, 0.0625, 'gini = 0.0\\nsamples = 104\\nvalue = [0, 0, 104, 0, 0, 0, 0]'),\n",
       " Text(0.5, 0.1875, 'x[6] <= 0.002\\ngini = 0.535\\nsamples = 657\\nvalue = [9, 5, 278, 351, 0, 7, 7]'),\n",
       " Text(0.49, 0.0625, 'gini = 0.196\\nsamples = 180\\nvalue = [0, 5, 161, 0, 0, 7, 7]'),\n",
       " Text(0.51, 0.0625, 'gini = 0.398\\nsamples = 477\\nvalue = [9, 0, 117, 351, 0, 0, 0]'),\n",
       " Text(0.78625, 0.6875, 'x[6] <= 0.018\\ngini = 0.692\\nsamples = 12119\\nvalue = [14, 2721, 5134, 327, 147, 424, 3352]'),\n",
       " Text(0.68, 0.5625, 'x[6] <= 0.006\\ngini = 0.594\\nsamples = 6859\\nvalue = [14, 330, 3844, 327, 147, 186, 2011]'),\n",
       " Text(0.6, 0.4375, 'x[6] <= 0.006\\ngini = 0.583\\nsamples = 4208\\nvalue = [0, 66, 1930, 213, 13, 86, 1900]'),\n",
       " Text(0.56, 0.3125, 'x[6] <= 0.004\\ngini = 0.55\\nsamples = 3129\\nvalue = [0, 66, 1894, 213, 0, 85, 871]'),\n",
       " Text(0.54, 0.1875, 'x[2] <= 3.5\\ngini = 0.13\\nsamples = 936\\nvalue = [0, 36, 872, 0, 0, 23, 5]'),\n",
       " Text(0.53, 0.0625, 'gini = 0.662\\nsamples = 25\\nvalue = [0, 9, 9, 0, 0, 7, 0]'),\n",
       " Text(0.55, 0.0625, 'gini = 0.101\\nsamples = 911\\nvalue = [0, 27, 863, 0, 0, 16, 5]'),\n",
       " Text(0.58, 0.1875, 'x[6] <= 0.004\\ngini = 0.616\\nsamples = 2193\\nvalue = [0, 30, 1022, 213, 0, 62, 866]'),\n",
       " Text(0.57, 0.0625, 'gini = 0.148\\nsamples = 854\\nvalue = [0, 0, 62, 5, 0, 1, 786]'),\n",
       " Text(0.59, 0.0625, 'gini = 0.456\\nsamples = 1339\\nvalue = [0, 30, 960, 208, 0, 61, 80]'),\n",
       " Text(0.64, 0.3125, 'x[8] <= 0.0\\ngini = 0.089\\nsamples = 1079\\nvalue = [0, 0, 36, 0, 13, 1, 1029]'),\n",
       " Text(0.62, 0.1875, 'x[0] <= 1.5\\ngini = 0.025\\nsamples = 1042\\nvalue = [0, 0, 0, 0, 13, 0, 1029]'),\n",
       " Text(0.61, 0.0625, 'gini = 0.116\\nsamples = 210\\nvalue = [0, 0, 0, 0, 13, 0, 197]'),\n",
       " Text(0.63, 0.0625, 'gini = 0.0\\nsamples = 832\\nvalue = [0, 0, 0, 0, 0, 0, 832]'),\n",
       " Text(0.66, 0.1875, 'x[8] <= 0.0\\ngini = 0.053\\nsamples = 37\\nvalue = [0, 0, 36, 0, 0, 1, 0]'),\n",
       " Text(0.65, 0.0625, 'gini = 0.0\\nsamples = 1\\nvalue = [0, 0, 0, 0, 0, 1, 0]'),\n",
       " Text(0.67, 0.0625, 'gini = 0.0\\nsamples = 36\\nvalue = [0, 0, 36, 0, 0, 0, 0]'),\n",
       " Text(0.76, 0.4375, 'x[2] <= 5.5\\ngini = 0.461\\nsamples = 2651\\nvalue = [14, 264, 1914, 114, 134, 100, 111]'),\n",
       " Text(0.72, 0.3125, 'x[8] <= 0.0\\ngini = 0.766\\nsamples = 234\\nvalue = [3, 73, 47, 22, 6, 16, 67]'),\n",
       " Text(0.7, 0.1875, 'x[2] <= 1.5\\ngini = 0.656\\nsamples = 125\\nvalue = [0, 4, 11, 22, 6, 15, 67]'),\n",
       " Text(0.69, 0.0625, 'gini = 0.77\\nsamples = 34\\nvalue = [0, 2, 3, 10, 4, 11, 4]'),\n",
       " Text(0.71, 0.0625, 'gini = 0.493\\nsamples = 91\\nvalue = [0, 2, 8, 12, 2, 4, 63]'),\n",
       " Text(0.74, 0.1875, 'x[0] <= 6.5\\ngini = 0.489\\nsamples = 109\\nvalue = [3, 69, 36, 0, 0, 1, 0]'),\n",
       " Text(0.73, 0.0625, 'gini = 0.188\\nsamples = 19\\nvalue = [2, 0, 17, 0, 0, 0, 0]'),\n",
       " Text(0.75, 0.0625, 'gini = 0.367\\nsamples = 90\\nvalue = [1, 69, 19, 0, 0, 1, 0]'),\n",
       " Text(0.8, 0.3125, 'x[2] <= 21.5\\ngini = 0.391\\nsamples = 2417\\nvalue = [11, 191, 1867, 92, 128, 84, 44]'),\n",
       " Text(0.78, 0.1875, 'x[6] <= 0.013\\ngini = 0.36\\nsamples = 2303\\nvalue = [10, 148, 1829, 85, 127, 61, 43]'),\n",
       " Text(0.77, 0.0625, 'gini = 0.275\\nsamples = 1692\\nvalue = [10, 134, 1433, 0, 55, 38, 22]'),\n",
       " Text(0.79, 0.0625, 'gini = 0.544\\nsamples = 611\\nvalue = [0, 14, 396, 85, 72, 23, 21]'),\n",
       " Text(0.82, 0.1875, 'x[0] <= 3.0\\ngini = 0.702\\nsamples = 114\\nvalue = [1, 43, 38, 7, 1, 23, 1]'),\n",
       " Text(0.81, 0.0625, 'gini = 0.313\\nsamples = 27\\nvalue = [1, 0, 4, 0, 0, 22, 0]'),\n",
       " Text(0.83, 0.0625, 'gini = 0.596\\nsamples = 87\\nvalue = [0, 43, 34, 7, 1, 1, 1]'),\n",
       " Text(0.8925, 0.5625, 'x[0] <= 6.5\\ngini = 0.666\\nsamples = 5260\\nvalue = [0, 2391, 1290, 0, 0, 238, 1341]'),\n",
       " Text(0.84, 0.4375, 'x[8] <= 0.0\\ngini = 0.556\\nsamples = 1435\\nvalue = [0, 8, 786, 0, 0, 106, 535]'),\n",
       " Text(0.83, 0.3125, 'gini = 0.0\\nsamples = 535\\nvalue = [0, 0, 0, 0, 0, 0, 535]'),\n",
       " Text(0.85, 0.3125, 'x[2] <= 0.5\\ngini = 0.223\\nsamples = 900\\nvalue = [0, 8, 786, 0, 0, 106, 0]'),\n",
       " Text(0.84, 0.1875, 'gini = 0.0\\nsamples = 10\\nvalue = [0, 0, 0, 0, 0, 10, 0]'),\n",
       " Text(0.86, 0.1875, 'x[6] <= 0.055\\ngini = 0.208\\nsamples = 890\\nvalue = [0, 8, 786, 0, 0, 96, 0]'),\n",
       " Text(0.85, 0.0625, 'gini = 0.107\\nsamples = 565\\nvalue = [0, 0, 533, 0, 0, 32, 0]'),\n",
       " Text(0.87, 0.0625, 'gini = 0.355\\nsamples = 325\\nvalue = [0, 8, 253, 0, 0, 64, 0]'),\n",
       " Text(0.945, 0.4375, 'x[0] <= 11.5\\ngini = 0.549\\nsamples = 3825\\nvalue = [0, 2383, 504, 0, 0, 132, 806]'),\n",
       " Text(0.92, 0.3125, 'x[6] <= 0.035\\ngini = 0.365\\nsamples = 3055\\nvalue = [0, 2382, 175, 0, 0, 30, 468]'),\n",
       " Text(0.9, 0.1875, 'x[6] <= 0.018\\ngini = 0.472\\nsamples = 1708\\nvalue = [0, 1160, 118, 0, 0, 5, 425]'),\n",
       " Text(0.89, 0.0625, 'gini = 0.003\\nsamples = 656\\nvalue = [0, 655, 1, 0, 0, 0, 0]'),\n",
       " Text(0.91, 0.0625, 'gini = 0.594\\nsamples = 1052\\nvalue = [0, 505, 117, 0, 0, 5, 425]'),\n",
       " Text(0.94, 0.1875, 'x[8] <= 0.0\\ngini = 0.174\\nsamples = 1347\\nvalue = [0, 1222, 57, 0, 0, 25, 43]'),\n",
       " Text(0.93, 0.0625, 'gini = 0.496\\nsamples = 79\\nvalue = [0, 36, 0, 0, 0, 0, 43]'),\n",
       " Text(0.95, 0.0625, 'gini = 0.123\\nsamples = 1268\\nvalue = [0, 1186, 57, 0, 0, 25, 0]'),\n",
       " Text(0.97, 0.3125, 'x[8] <= 0.0\\ngini = 0.607\\nsamples = 770\\nvalue = [0, 1, 329, 0, 0, 102, 338]'),\n",
       " Text(0.96, 0.1875, 'gini = 0.0\\nsamples = 338\\nvalue = [0, 0, 0, 0, 0, 0, 338]'),\n",
       " Text(0.98, 0.1875, 'x[6] <= 0.06\\ngini = 0.364\\nsamples = 432\\nvalue = [0, 1, 329, 0, 0, 102, 0]'),\n",
       " Text(0.97, 0.0625, 'gini = 0.242\\nsamples = 357\\nvalue = [0, 1, 307, 0, 0, 49, 0]'),\n",
       " Text(0.99, 0.0625, 'gini = 0.415\\nsamples = 75\\nvalue = [0, 0, 22, 0, 0, 53, 0]'),\n",
       " Text(0.81625, 0.8125, 'x[7] <= 0.5\\ngini = 0.0\\nsamples = 11342\\nvalue = [11341, 0, 1, 0, 0, 0, 0]'),\n",
       " Text(0.80625, 0.6875, 'gini = 0.0\\nsamples = 11341\\nvalue = [11341, 0, 0, 0, 0, 0, 0]'),\n",
       " Text(0.82625, 0.6875, 'gini = 0.0\\nsamples = 1\\nvalue = [0, 0, 1, 0, 0, 0, 0]')]"
      ]
     },
     "execution_count": 59,
     "metadata": {},
     "output_type": "execute_result"
    },
    {
     "data": {
      "image/png": "[encoded data removed]",
      "text/plain": [
       "<Figure size 1200x800 with 1 Axes>"
      ]
     },
     "metadata": {},
     "output_type": "display_data"
    }
   ],
   "source": [
    "plt.figure(figsize=(12,8))\n",
    "\n",
    "tree.plot_tree(clf_gini.fit(X_train, Y_train))"
   ]
  },
  {
   "cell_type": "code",
   "execution_count": 60,
   "metadata": {},
   "outputs": [],
   "source": [
    "import pickle"
   ]
  },
  {
   "cell_type": "code",
   "execution_count": 61,
   "metadata": {},
   "outputs": [],
   "source": [
    "# Menyimpan model ke dalam file\n",
    "with open('model.pkl', 'wb') as f:\n",
    "    pickle.dump(dt, f)"
   ]
  },
  {
   "cell_type": "code",
   "execution_count": 62,
   "metadata": {},
   "outputs": [],
   "source": [
    "# Mengambil kembali model dari file\n",
    "with open('model.pkl', 'rb') as f:\n",
    "    dt = pickle.load(f)"
   ]
  },
  {
   "attachments": {},
   "cell_type": "markdown",
   "metadata": {},
   "source": [
    "10.) Count Unique"
   ]
  },
  {
   "cell_type": "code",
   "execution_count": 63,
   "metadata": {},
   "outputs": [
    {
     "name": "stdout",
     "output_type": "stream",
     "text": [
      "month: 6 \n",
      "day_name: 7 \n",
      "hour: 24 \n",
      "service_type: 7 \n",
      "payment_type: 2 \n",
      "city_name: 107 \n",
      "remaining_balance: 24880 \n",
      "amount_of_trx: 1986 \n",
      "free_unit: 152 \n",
      "usage_unit: 1605 \n"
     ]
    }
   ],
   "source": [
    "for col in data.columns:\n",
    "    unique_count = data[col].nunique()\n",
    "    print(f\"{col}: {unique_count} \")"
   ]
  },
  {
   "attachments": {},
   "cell_type": "markdown",
   "metadata": {},
   "source": [
    "---------------------------------------------------------------------------------------------------"
   ]
  },
  {
   "attachments": {},
   "cell_type": "markdown",
   "metadata": {},
   "source": [
    "11.) Tidying Up Categorical Data for destination_poc"
   ]
  },
  {
   "cell_type": "code",
   "execution_count": 64,
   "metadata": {},
   "outputs": [
    {
     "ename": "KeyError",
     "evalue": "'destination_poc'",
     "output_type": "error",
     "traceback": [
      "\u001b[1;31m---------------------------------------------------------------------------\u001b[0m",
      "\u001b[1;31mKeyError\u001b[0m                                  Traceback (most recent call last)",
      "File \u001b[1;32m~\\AppData\\Local\\Programs\\Python\\Python311\\Lib\\site-packages\\pandas\\core\\indexes\\base.py:3652\u001b[0m, in \u001b[0;36mIndex.get_loc\u001b[1;34m(self, key)\u001b[0m\n\u001b[0;32m   3651\u001b[0m \u001b[39mtry\u001b[39;00m:\n\u001b[1;32m-> 3652\u001b[0m     \u001b[39mreturn\u001b[39;00m \u001b[39mself\u001b[39;49m\u001b[39m.\u001b[39;49m_engine\u001b[39m.\u001b[39;49mget_loc(casted_key)\n\u001b[0;32m   3653\u001b[0m \u001b[39mexcept\u001b[39;00m \u001b[39mKeyError\u001b[39;00m \u001b[39mas\u001b[39;00m err:\n",
      "File \u001b[1;32m~\\AppData\\Local\\Programs\\Python\\Python311\\Lib\\site-packages\\pandas\\_libs\\index.pyx:147\u001b[0m, in \u001b[0;36mpandas._libs.index.IndexEngine.get_loc\u001b[1;34m()\u001b[0m\n",
      "File \u001b[1;32m~\\AppData\\Local\\Programs\\Python\\Python311\\Lib\\site-packages\\pandas\\_libs\\index.pyx:176\u001b[0m, in \u001b[0;36mpandas._libs.index.IndexEngine.get_loc\u001b[1;34m()\u001b[0m\n",
      "File \u001b[1;32mpandas\\_libs\\hashtable_class_helper.pxi:7080\u001b[0m, in \u001b[0;36mpandas._libs.hashtable.PyObjectHashTable.get_item\u001b[1;34m()\u001b[0m\n",
      "File \u001b[1;32mpandas\\_libs\\hashtable_class_helper.pxi:7088\u001b[0m, in \u001b[0;36mpandas._libs.hashtable.PyObjectHashTable.get_item\u001b[1;34m()\u001b[0m\n",
      "\u001b[1;31mKeyError\u001b[0m: 'destination_poc'",
      "\nThe above exception was the direct cause of the following exception:\n",
      "\u001b[1;31mKeyError\u001b[0m                                  Traceback (most recent call last)",
      "Cell \u001b[1;32mIn[64], line 1\u001b[0m\n\u001b[1;32m----> 1\u001b[0m unique_values \u001b[39m=\u001b[39m \u001b[39msorted\u001b[39m(data[\u001b[39m'\u001b[39;49m\u001b[39mdestination_poc\u001b[39;49m\u001b[39m'\u001b[39;49m]\u001b[39m.\u001b[39munique())\n\u001b[0;32m      3\u001b[0m \u001b[39m# Print the unique values\u001b[39;00m\n\u001b[0;32m      4\u001b[0m \u001b[39mprint\u001b[39m(unique_values)\n",
      "File \u001b[1;32m~\\AppData\\Local\\Programs\\Python\\Python311\\Lib\\site-packages\\pandas\\core\\frame.py:3761\u001b[0m, in \u001b[0;36mDataFrame.__getitem__\u001b[1;34m(self, key)\u001b[0m\n\u001b[0;32m   3759\u001b[0m \u001b[39mif\u001b[39;00m \u001b[39mself\u001b[39m\u001b[39m.\u001b[39mcolumns\u001b[39m.\u001b[39mnlevels \u001b[39m>\u001b[39m \u001b[39m1\u001b[39m:\n\u001b[0;32m   3760\u001b[0m     \u001b[39mreturn\u001b[39;00m \u001b[39mself\u001b[39m\u001b[39m.\u001b[39m_getitem_multilevel(key)\n\u001b[1;32m-> 3761\u001b[0m indexer \u001b[39m=\u001b[39m \u001b[39mself\u001b[39;49m\u001b[39m.\u001b[39;49mcolumns\u001b[39m.\u001b[39;49mget_loc(key)\n\u001b[0;32m   3762\u001b[0m \u001b[39mif\u001b[39;00m is_integer(indexer):\n\u001b[0;32m   3763\u001b[0m     indexer \u001b[39m=\u001b[39m [indexer]\n",
      "File \u001b[1;32m~\\AppData\\Local\\Programs\\Python\\Python311\\Lib\\site-packages\\pandas\\core\\indexes\\base.py:3654\u001b[0m, in \u001b[0;36mIndex.get_loc\u001b[1;34m(self, key)\u001b[0m\n\u001b[0;32m   3652\u001b[0m     \u001b[39mreturn\u001b[39;00m \u001b[39mself\u001b[39m\u001b[39m.\u001b[39m_engine\u001b[39m.\u001b[39mget_loc(casted_key)\n\u001b[0;32m   3653\u001b[0m \u001b[39mexcept\u001b[39;00m \u001b[39mKeyError\u001b[39;00m \u001b[39mas\u001b[39;00m err:\n\u001b[1;32m-> 3654\u001b[0m     \u001b[39mraise\u001b[39;00m \u001b[39mKeyError\u001b[39;00m(key) \u001b[39mfrom\u001b[39;00m \u001b[39merr\u001b[39;00m\n\u001b[0;32m   3655\u001b[0m \u001b[39mexcept\u001b[39;00m \u001b[39mTypeError\u001b[39;00m:\n\u001b[0;32m   3656\u001b[0m     \u001b[39m# If we have a listlike key, _check_indexing_error will raise\u001b[39;00m\n\u001b[0;32m   3657\u001b[0m     \u001b[39m#  InvalidIndexError. Otherwise we fall through and re-raise\u001b[39;00m\n\u001b[0;32m   3658\u001b[0m     \u001b[39m#  the TypeError.\u001b[39;00m\n\u001b[0;32m   3659\u001b[0m     \u001b[39mself\u001b[39m\u001b[39m.\u001b[39m_check_indexing_error(key)\n",
      "\u001b[1;31mKeyError\u001b[0m: 'destination_poc'"
     ]
    }
   ],
   "source": [
    "unique_values = sorted(data['destination_poc'].unique())\n",
    "\n",
    "# Print the unique values\n",
    "print(unique_values)"
   ]
  },
  {
   "cell_type": "code",
   "execution_count": null,
   "metadata": {},
   "outputs": [
    {
     "name": "stdout",
     "output_type": "stream",
     "text": [
      "YGY    243\n",
      "YG0    134\n",
      "YG2     48\n",
      "YG3     30\n",
      "YG4     19\n",
      "YG6     12\n",
      "YG1     12\n",
      "YG5      9\n",
      "Name: destination_poc, dtype: int64\n"
     ]
    }
   ],
   "source": [
    "# Declare categories YOGYAKARTA\n",
    "categories_YG = ['YG0', 'YG1', 'YG2', 'YG3', 'YG4', 'YG5', 'YG6', 'YGY']\n",
    "catcounts_YG = data[data['destination_poc'].isin(categories_YG)]['destination_poc'].value_counts()\n",
    "print(catcounts_YG)"
   ]
  },
  {
   "cell_type": "code",
   "execution_count": null,
   "metadata": {},
   "outputs": [
    {
     "name": "stdout",
     "output_type": "stream",
     "text": [
      "SMG    882\n",
      "SM0    203\n",
      "SM5     59\n",
      "SM2     56\n",
      "SM1     25\n",
      "SM3     17\n",
      "SM4      8\n",
      "Name: destination_poc, dtype: int64\n"
     ]
    }
   ],
   "source": [
    "# Declare categories SEMARANG\n",
    "categories_SM = ['SM0', 'SM1', 'SM2', 'SM3', 'SM4', 'SM5', 'SMG']\n",
    "catcounts_SM = data[data['destination_poc'].isin(categories_SM)]['destination_poc'].value_counts()\n",
    "print(catcounts_SM)"
   ]
  },
  {
   "cell_type": "code",
   "execution_count": null,
   "metadata": {},
   "outputs": [],
   "source": [
    "#data['destination_poc'] = data['destination_poc'].replace(['0'], 'NOPOC')\n",
    "data['destination_poc'] = data['destination_poc'].replace(['AC0','AC1','ACH'],'ACEH')\n",
    "data['destination_poc'] = data['destination_poc'].replace(['BD0','BD1','BD2','BD3','BD4','BD5','BD6','BD7','BD8','BD9','BDG'],'BANDUNG')\n",
    "data['destination_poc'] = data['destination_poc'].replace(['BJ0','BJ1','BJ2'],'BANJARMASIN')\n",
    "data['destination_poc'] = data['destination_poc'].replace(['YG0', 'YG1', 'YG2', 'YG3', 'YG4', 'YG5', 'YG6', 'YGY'],'YOGYAKARTA')\n",
    "data['destination_poc'] = data['destination_poc'].replace(['SM0', 'SM1', 'SM2', 'SM3', 'SM4', 'SM5', 'SMG'],'SEMARANG')\n",
    "data['destination_poc'] = data['destination_poc'].replace(['SB0', 'SB1', 'SB2', 'SB3', 'SB4', 'SBY'],'SURABAYA')\n",
    "data['destination_poc'] = data['destination_poc'].replace(['PT0', 'PT2', 'PTK'],'PONTIANAK')\n",
    "data['destination_poc'] = data['destination_poc'].replace(['ML0', 'ML1', 'ML2', 'ML3', 'ML4', 'ML5', 'ML6', 'MLG'],'MALANG')\n",
    "data['destination_poc'] = data['destination_poc'].replace(['PL0', 'PL1', 'PL2', 'PL3', 'PL4', 'PL5', 'PL6', 'PLG'],'PALEMBANG')\n",
    "data['destination_poc'] = data['destination_poc'].replace(['MK0', 'MK1', 'MK2', 'MK3', 'MKS'],'MAKASSAR')\n",
    "data['destination_poc'] = data['destination_poc'].replace(['MD0', 'MD1', 'MD3', 'MD4', 'MDN'],'MEDAN')\n",
    "data['destination_poc'] = data['destination_poc'].replace(['PD0', 'PD1', 'PDG'],'PADANG')\n",
    "data['destination_poc'] = data['destination_poc'].replace(['DP0', 'DP1', 'DPS'],'DENPASAR')\n",
    "data['destination_poc'] = data['destination_poc'].replace(['PK0', 'PK1', 'PKB'],'PEKANBARU')\n",
    "data['destination_poc'] = data['destination_poc'].replace(['JM0', 'JM1', 'JM2', 'JMB'],'JAMBI')\n",
    "data['destination_poc'] = data['destination_poc'].replace(['LP0', 'LP1', 'LP2', 'LPG'],'LAMPUNG')\n",
    "data['destination_poc'] = data['destination_poc'].replace(['BM0', 'BM1', 'BM2'],'BATAM')\n",
    "data['destination_poc'] = data['destination_poc'].replace(['BT0', 'BT1', 'BT2'],'BANTEN')\n",
    "data['destination_poc'] = data['destination_poc'].replace(['BN0', 'BN1', 'BNG'],'BENGKULU')\n",
    "data['destination_poc'] = data['destination_poc'].replace(['MA1', 'MA2', 'MA3'],'MADURA')\n",
    "data['destination_poc'] = data['destination_poc'].replace(['BJ0', 'BJ1', 'BJ2'],'BANJARBARU')\n",
    "data['destination_poc'] = data['destination_poc'].replace(['PG0', 'PG1', 'PGK'],'PALANGKARAYA')\n",
    "data['destination_poc'] = data['destination_poc'].replace(['BL0', 'BL1', 'BL3', 'BLK'],'BALIKPAPAN')\n",
    "data['destination_poc'] = data['destination_poc'].replace(['MN0', 'MN1', 'MND'],'MANADO')\n",
    "data['destination_poc'] = data['destination_poc'].replace(['PU0','PLU'],'PALU')\n",
    "data['destination_poc'] = data['destination_poc'].replace(['SK0'],'SUKABUMI')\n",
    "data['destination_poc'] = data['destination_poc'].replace(['PK0',],'PEKANBARU')\n",
    "data['destination_poc'] = data['destination_poc'].replace(['LB0','LB1'],'MATARAM')\n",
    "data['destination_poc'] = data['destination_poc'].replace(['BK0', 'BK1'],'MATARAM')\n",
    "data['destination_poc'] = data['destination_poc'].replace(['MT0', 'MT1'],'MATARAM')"
   ]
  },
  {
   "cell_type": "code",
   "execution_count": null,
   "metadata": {},
   "outputs": [],
   "source": [
    "'BTM' 'MTB'\n",
    "'JK0', 'JK1', 'JKB', 'JKT'"
   ]
  },
  {
   "cell_type": "code",
   "execution_count": null,
   "metadata": {},
   "outputs": [
    {
     "name": "stdout",
     "output_type": "stream",
     "text": [
      "['ACEH', 'BALIKPAPAN', 'BANDUNG', 'BANJARMASIN', 'BANTEN', 'BATAM', 'BENGKULU', 'BNJ', 'BTM', 'BTN', 'DENPASAR', 'IR0', 'IRN', 'JAMBI', 'JK0', 'JK1', 'JKB', 'JKT', 'KA0', 'KD0', 'KDR', 'KP0', 'LAMPUNG', 'MADURA', 'MAKASSAR', 'MALANG', 'MANADO', 'MATARAM', 'MB0', 'MB1', 'MEDAN', 'MLK', 'MTB', 'MTR', 'MU0', 'NOPOC', 'OTH', 'PADANG', 'PALANGKARAYA', 'PALEMBANG', 'PALU', 'PEKANBARU', 'PONTIANAK', 'SEMARANG', 'SUKABUMI', 'SURABAYA', 'YOGYAKARTA']\n"
     ]
    }
   ],
   "source": [
    "unique_values = sorted(data['destination_poc'].unique())\n",
    "\n",
    "# Print the unique values\n",
    "print(unique_values)"
   ]
  },
  {
   "cell_type": "code",
   "execution_count": null,
   "metadata": {},
   "outputs": [
    {
     "data": {
      "text/html": [
       "<div>\n",
       "<style scoped>\n",
       "    .dataframe tbody tr th:only-of-type {\n",
       "        vertical-align: middle;\n",
       "    }\n",
       "\n",
       "    .dataframe tbody tr th {\n",
       "        vertical-align: top;\n",
       "    }\n",
       "\n",
       "    .dataframe thead th {\n",
       "        text-align: right;\n",
       "    }\n",
       "</style>\n",
       "<table border=\"1\" class=\"dataframe\">\n",
       "  <thead>\n",
       "    <tr style=\"text-align: right;\">\n",
       "      <th></th>\n",
       "      <th>year</th>\n",
       "      <th>month</th>\n",
       "      <th>day</th>\n",
       "      <th>day_name</th>\n",
       "      <th>hour</th>\n",
       "      <th>service_type</th>\n",
       "      <th>payment_type</th>\n",
       "      <th>subs_no</th>\n",
       "      <th>home_poc</th>\n",
       "      <th>city_name</th>\n",
       "      <th>physical_poc</th>\n",
       "      <th>destination_poc</th>\n",
       "      <th>remaining_balance</th>\n",
       "      <th>amount_of_trx</th>\n",
       "      <th>free_unit</th>\n",
       "      <th>usage_unit</th>\n",
       "    </tr>\n",
       "  </thead>\n",
       "  <tbody>\n",
       "    <tr>\n",
       "      <th>0</th>\n",
       "      <td>2021</td>\n",
       "      <td>1</td>\n",
       "      <td>9</td>\n",
       "      <td>Saturday</td>\n",
       "      <td>21</td>\n",
       "      <td>SMSBAS</td>\n",
       "      <td>PRE</td>\n",
       "      <td>2106705274</td>\n",
       "      <td>JK0</td>\n",
       "      <td>JAKARTA</td>\n",
       "      <td>KA0</td>\n",
       "      <td>JKT</td>\n",
       "      <td>673.0</td>\n",
       "      <td>50.0</td>\n",
       "      <td>0.0</td>\n",
       "      <td>1.0</td>\n",
       "    </tr>\n",
       "    <tr>\n",
       "      <th>1</th>\n",
       "      <td>2021</td>\n",
       "      <td>1</td>\n",
       "      <td>9</td>\n",
       "      <td>Saturday</td>\n",
       "      <td>21</td>\n",
       "      <td>SMSBAS</td>\n",
       "      <td>PRE</td>\n",
       "      <td>2106705274</td>\n",
       "      <td>JK0</td>\n",
       "      <td>JAKARTA</td>\n",
       "      <td>KA0</td>\n",
       "      <td>JKT</td>\n",
       "      <td>623.0</td>\n",
       "      <td>50.0</td>\n",
       "      <td>0.0</td>\n",
       "      <td>1.0</td>\n",
       "    </tr>\n",
       "    <tr>\n",
       "      <th>2</th>\n",
       "      <td>2021</td>\n",
       "      <td>1</td>\n",
       "      <td>9</td>\n",
       "      <td>Saturday</td>\n",
       "      <td>21</td>\n",
       "      <td>SMSBAS</td>\n",
       "      <td>PRE</td>\n",
       "      <td>2106705274</td>\n",
       "      <td>JK0</td>\n",
       "      <td>JAKARTA</td>\n",
       "      <td>KA0</td>\n",
       "      <td>JKT</td>\n",
       "      <td>573.0</td>\n",
       "      <td>50.0</td>\n",
       "      <td>0.0</td>\n",
       "      <td>1.0</td>\n",
       "    </tr>\n",
       "    <tr>\n",
       "      <th>3</th>\n",
       "      <td>2021</td>\n",
       "      <td>1</td>\n",
       "      <td>9</td>\n",
       "      <td>Saturday</td>\n",
       "      <td>7</td>\n",
       "      <td>VASOCC</td>\n",
       "      <td>PRE</td>\n",
       "      <td>1075588229</td>\n",
       "      <td>NOPOC</td>\n",
       "      <td>JAKARTA</td>\n",
       "      <td>B</td>\n",
       "      <td>NOPOC</td>\n",
       "      <td>7220.0</td>\n",
       "      <td>5500.0</td>\n",
       "      <td>0.0</td>\n",
       "      <td>1.0</td>\n",
       "    </tr>\n",
       "    <tr>\n",
       "      <th>4</th>\n",
       "      <td>2021</td>\n",
       "      <td>1</td>\n",
       "      <td>9</td>\n",
       "      <td>Saturday</td>\n",
       "      <td>4</td>\n",
       "      <td>CONTEN</td>\n",
       "      <td>PRE</td>\n",
       "      <td>1075588229</td>\n",
       "      <td>JK0</td>\n",
       "      <td>JAKARTA</td>\n",
       "      <td>JK0</td>\n",
       "      <td>NOPOC</td>\n",
       "      <td>101720.0</td>\n",
       "      <td>55.0</td>\n",
       "      <td>0.0</td>\n",
       "      <td>1048576.0</td>\n",
       "    </tr>\n",
       "  </tbody>\n",
       "</table>\n",
       "</div>"
      ],
      "text/plain": [
       "   year  month  day  day_name  hour service_type payment_type     subs_no  \\\n",
       "0  2021      1    9  Saturday    21       SMSBAS          PRE  2106705274   \n",
       "1  2021      1    9  Saturday    21       SMSBAS          PRE  2106705274   \n",
       "2  2021      1    9  Saturday    21       SMSBAS          PRE  2106705274   \n",
       "3  2021      1    9  Saturday     7       VASOCC          PRE  1075588229   \n",
       "4  2021      1    9  Saturday     4       CONTEN          PRE  1075588229   \n",
       "\n",
       "  home_poc city_name physical_poc destination_poc  remaining_balance  \\\n",
       "0      JK0   JAKARTA          KA0             JKT              673.0   \n",
       "1      JK0   JAKARTA          KA0             JKT              623.0   \n",
       "2      JK0   JAKARTA          KA0             JKT              573.0   \n",
       "3    NOPOC   JAKARTA            B           NOPOC             7220.0   \n",
       "4      JK0   JAKARTA          JK0           NOPOC           101720.0   \n",
       "\n",
       "   amount_of_trx  free_unit  usage_unit  \n",
       "0           50.0        0.0         1.0  \n",
       "1           50.0        0.0         1.0  \n",
       "2           50.0        0.0         1.0  \n",
       "3         5500.0        0.0         1.0  \n",
       "4           55.0        0.0   1048576.0  "
      ]
     },
     "metadata": {},
     "output_type": "display_data"
    }
   ],
   "source": [
    "data.head()"
   ]
  },
  {
   "attachments": {},
   "cell_type": "markdown",
   "metadata": {},
   "source": [
    "12.) Tidying Up Categorical Data for home_poc"
   ]
  },
  {
   "cell_type": "code",
   "execution_count": null,
   "metadata": {},
   "outputs": [
    {
     "name": "stdout",
     "output_type": "stream",
     "text": [
      "['AC0', 'AC1', 'AC3', 'AC4', 'BD0', 'BD1', 'BD2', 'BD3', 'BD4', 'BD5', 'BD6', 'BD7', 'BD8', 'BD9', 'BDG', 'BJ0', 'BJ1', 'BJ2', 'BK0', 'BK1', 'BK2', 'BL0', 'BL1', 'BL2', 'BM0', 'BM1', 'BM2', 'BN1', 'BT0', 'BT1', 'BT2', 'DP0', 'DP1', 'IR1', 'JK0', 'JK1', 'JKT', 'JM0', 'JM1', 'JM2', 'KA0', 'KD0', 'KD1', 'KD2', 'KP0', 'LB0', 'LB1', 'LP0', 'LP1', 'LP4', 'MA1', 'MA2', 'MA3', 'MB0', 'MB1', 'MD0', 'MD1', 'MD2', 'MD3', 'MD4', 'MD5', 'MK0', 'MK1', 'MK2', 'MK3', 'ML0', 'ML1', 'ML2', 'ML3', 'ML4', 'ML5', 'MN0', 'MN1', 'MN2', 'MT0', 'MT1', 'MU0', 'NOPOC', 'PD0', 'PG0', 'PG1', 'PK0', 'PK1', 'PL0', 'PL1', 'PL2', 'PL3', 'PL5', 'PT0', 'PU0', 'SB0', 'SB1', 'SB2', 'SB3', 'SB4', 'SK0', 'SM0', 'SM1', 'SM2', 'SM3', 'SM4', 'SM5', 'SMG', 'YG0', 'YG1', 'YG2', 'YG3', 'YG4', 'YG5', 'YG6', 'YG7']\n"
     ]
    }
   ],
   "source": [
    "unique_home = sorted(data['home_poc'].unique())\n",
    "\n",
    "# Print the unique values\n",
    "print(unique_home)"
   ]
  },
  {
   "cell_type": "code",
   "execution_count": null,
   "metadata": {},
   "outputs": [
    {
     "name": "stdout",
     "output_type": "stream",
     "text": [
      "['ACEH', 'BALIKPAPAN', 'BANDUNG', 'BANJARMASIN', 'BANTEN', 'BATAM', 'BENGKULU', 'DENPASAR', 'JAKARTA', 'JAMBI', 'KARAWANG', 'KENDARI', 'KP0', 'LAMPUNG', 'LB0', 'LB1', 'MADURA', 'MAKASSAR', 'MALANG', 'MANADO', 'MB0', 'MB1', 'MEDAN', 'MN2', 'MT0', 'MT1', 'MU0', 'NOPOC', 'PADANG', 'PALANGKARAYA', 'PALEMBANG', 'PANGKAL PINANG', 'PEKANBARU', 'PONTIANAK', 'PU0', 'SEMARANG', 'SK0', 'SORONG', 'SURABAYA', 'YOGYAKARTA']\n"
     ]
    }
   ],
   "source": [
    "unique_home = sorted(data['home_poc'].unique())\n",
    "\n",
    "# Print the unique values\n",
    "print(unique_home)"
   ]
  },
  {
   "cell_type": "code",
   "execution_count": null,
   "metadata": {},
   "outputs": [],
   "source": [
    "data['home_poc'] = data['home_poc'].replace(['0'], 'NOPOC')\n",
    "data['home_poc'] = data['home_poc'].replace(['AC0','AC1','AC3', 'AC4'],'ACEH')\n",
    "data['home_poc'] = data['home_poc'].replace(['BD0','BD1','BD2','BD3','BD4','BD5','BD6','BD7','BD8','BD9','BDG'],'BANDUNG')\n",
    "data['home_poc'] = data['home_poc'].replace(['BJ0','BJ1','BJ2'],'BANJARMASIN')\n",
    "data['home_poc'] = data['home_poc'].replace(['YG0', 'YG1', 'YG2', 'YG3', 'YG4', 'YG5', 'YG6', 'YG7','YGY'],'YOGYAKARTA')\n",
    "data['home_poc'] = data['home_poc'].replace(['SM0', 'SM1', 'SM2', 'SM3', 'SM4', 'SM5', 'SMG'],'SEMARANG')\n",
    "data['home_poc'] = data['home_poc'].replace(['SB0', 'SB1', 'SB2', 'SB3', 'SB4', 'SBY'],'SURABAYA')\n",
    "data['home_poc'] = data['home_poc'].replace(['PT0', 'PT2', 'PTK'],'PONTIANAK')\n",
    "data['home_poc'] = data['home_poc'].replace(['ML0', 'ML1', 'ML2', 'ML3', 'ML4', 'ML5', 'ML6', 'MLG'],'MALANG')\n",
    "data['home_poc'] = data['home_poc'].replace(['PL0', 'PL1', 'PL2', 'PL3', 'PL4', 'PL5', 'PL6', 'PLG'],'PALEMBANG')\n",
    "data['home_poc'] = data['home_poc'].replace(['MK0', 'MK1', 'MK2', 'MK3', 'MKS'],'MAKASSAR')\n",
    "data['home_poc'] = data['home_poc'].replace(['MD0', 'MD1', 'MD2','MD3', 'MD4', 'MD5','MDN'],'MEDAN')\n",
    "data['home_poc'] = data['home_poc'].replace(['PD0', 'PD1', 'PDG'],'PADANG')\n",
    "data['home_poc'] = data['home_poc'].replace(['DP0', 'DP1', 'DPS'],'DENPASAR')\n",
    "data['home_poc'] = data['home_poc'].replace(['PK0', 'PK1', 'PKB'],'PEKANBARU')\n",
    "data['home_poc'] = data['home_poc'].replace(['JM0', 'JM1', 'JM2', 'JMB'],'JAMBI')\n",
    "data['home_poc'] = data['home_poc'].replace(['LP0', 'LP1', 'LP2','LP4', 'LPG'],'LAMPUNG')\n",
    "data['home_poc'] = data['home_poc'].replace(['BM0', 'BM1', 'BM2'],'BATAM')\n",
    "data['home_poc'] = data['home_poc'].replace(['BT0', 'BT1', 'BT2'],'BANTEN')\n",
    "data['home_poc'] = data['home_poc'].replace(['BN0', 'BN1', 'BNG'],'BENGKULU')\n",
    "data['home_poc'] = data['home_poc'].replace(['MA1', 'MA2', 'MA3'],'MADURA')\n",
    "data['home_poc'] = data['home_poc'].replace(['BJ0', 'BJ1', 'BJ2'],'BANJARBARU')\n",
    "data['home_poc'] = data['home_poc'].replace(['PG0', 'PG1', 'PGK'],'PALANGKARAYA')\n",
    "data['home_poc'] = data['home_poc'].replace(['BL0', 'BL1','BL2','BL3', 'BLK'],'BALIKPAPAN')\n",
    "data['home_poc'] = data['home_poc'].replace(['MN0', 'MN1', 'MND'],'MANADO')\n",
    "data['home_poc'] = data['home_poc'].replace(['BK0', 'BK1', 'BK2'],'PANGKAL PINANG')\n",
    "data['home_poc'] = data['home_poc'].replace(['JK0', 'JK1', 'JKT'],'JAKARTA')\n",
    "data['home_poc'] = data['home_poc'].replace(['KD0', 'KD1', 'KD2'],'KENDARI')\n",
    "data['home_poc'] = data['home_poc'].replace(['KA0'],'KARAWANG')\n",
    "data['home_poc'] = data['home_poc'].replace(['IR1'],'SORONG')\n",
    "data['home_poc'] = data['home_poc'].replace(['MB0','MB1'],'MALANG')"
   ]
  }
 ],
 "metadata": {
  "kernelspec": {
   "display_name": "Python 3",
   "language": "python",
   "name": "python3"
  },
  "language_info": {
   "codemirror_mode": {
    "name": "ipython",
    "version": 3
   },
   "file_extension": ".py",
   "mimetype": "text/x-python",
   "name": "python",
   "nbconvert_exporter": "python",
   "pygments_lexer": "ipython3",
   "version": "3.11.3"
  },
  "orig_nbformat": 4
 },
 "nbformat": 4,
 "nbformat_minor": 2
}
